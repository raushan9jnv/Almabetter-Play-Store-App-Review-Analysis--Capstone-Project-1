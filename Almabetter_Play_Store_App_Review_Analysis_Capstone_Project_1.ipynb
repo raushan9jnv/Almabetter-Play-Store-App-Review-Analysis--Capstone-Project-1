{
  "nbformat": 4,
  "nbformat_minor": 0,
  "metadata": {
    "colab": {
      "name": "Almabetter Play Store App Review Analysis- Capstone Project-1",
      "provenance": [],
      "authorship_tag": "ABX9TyOqzx/CttpRtl4U8Cxn07Do",
      "include_colab_link": true
    },
    "kernelspec": {
      "name": "python3",
      "display_name": "Python 3"
    },
    "language_info": {
      "name": "python"
    }
  },
  "cells": [
    {
      "cell_type": "markdown",
      "metadata": {
        "id": "view-in-github",
        "colab_type": "text"
      },
      "source": [
        "<a href=\"https://colab.research.google.com/github/raushan9jnv/Almabetter-Play-Store-App-Review-Analysis--Capstone-Project-1/blob/main/Almabetter_Play_Store_App_Review_Analysis_Capstone_Project_1.ipynb\" target=\"_parent\"><img src=\"https://colab.research.google.com/assets/colab-badge.svg\" alt=\"Open In Colab\"/></a>"
      ]
    },
    {
      "cell_type": "markdown",
      "metadata": {
        "id": "0JaTGOWcyDLv"
      },
      "source": [
        "## <b> The Play Store apps data has enormous potential to drive app-making businesses to success. Actionable insights can be drawn for developers to work on and capture the Android market. </b>\n",
        "\n",
        "## <b> Each app (row) has values for catergory, rating, size, and more. Another dataset contains customer reviews of the android apps.</b>\n",
        "\n",
        "## <b> Explore and analyze the data to discover key factors responsible for app engagement and success. </b>"
      ]
    },
    {
      "cell_type": "markdown",
      "metadata": {
        "id": "wU0x2F4kzeC9"
      },
      "source": [
        "# **INTRODUCTION**"
      ]
    },
    {
      "cell_type": "markdown",
      "metadata": {
        "id": "1fKXXj1zzjy8"
      },
      "source": [
        "Play Store is a Application distribution platform and pre-installed on smartphones that ship with Google Mobile Services and it's free to use. It provides access to content on the Google Play Store, including apps, books, magazines, music, movies, and television programs.Their lots of designers and developers work on it to make play store services outstanding than other stores present in the market."
      ]
    },
    {
      "cell_type": "markdown",
      "metadata": {
        "id": "WZz9EN7-4EGq"
      },
      "source": [
        ""
      ]
    }
  ]
}