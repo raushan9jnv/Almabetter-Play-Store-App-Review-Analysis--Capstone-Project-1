{
  "nbformat": 4,
  "nbformat_minor": 0,
  "metadata": {
    "colab": {
      "name": "Almabetter Play Store App Review Analysis- Capstone Project-1",
      "provenance": [],
      "collapsed_sections": [],
      "mount_file_id": "1KWjQmERUx0-s3yBx5TghuWrXqx7n3A7I",
      "authorship_tag": "ABX9TyOLXolutuSWfypcTh7T1CNS",
      "include_colab_link": true
    },
    "kernelspec": {
      "name": "python3",
      "display_name": "Python 3"
    },
    "language_info": {
      "name": "python"
    }
  },
  "cells": [
    {
      "cell_type": "markdown",
      "metadata": {
        "id": "view-in-github",
        "colab_type": "text"
      },
      "source": [
        "<a href=\"https://colab.research.google.com/github/raushan9jnv/Almabetter-Play-Store-App-Review-Analysis--Capstone-Project-1/blob/main/Almabetter_Play_Store_App_Review_Analysis_Capstone_Project_1.ipynb\" target=\"_parent\"><img src=\"https://colab.research.google.com/assets/colab-badge.svg\" alt=\"Open In Colab\"/></a>"
      ]
    },
    {
      "cell_type": "markdown",
      "metadata": {
        "id": "9mH-hQomHxee"
      },
      "source": [
        ""
      ]
    },
    {
      "cell_type": "markdown",
      "metadata": {
        "id": "0JaTGOWcyDLv"
      },
      "source": [
        "## <b> The Play Store apps data has enormous potential to drive app-making businesses to success. Actionable insights can be drawn for developers to work on and capture the Android market. </b>\n",
        "\n",
        "## <b> Each app (row) has values for catergory, rating, size, and more. Another dataset contains customer reviews of the android apps.</b>\n",
        "\n",
        "## <b> Explore and analyze the data to discover key factors responsible for app engagement and success. </b>"
      ]
    },
    {
      "cell_type": "markdown",
      "metadata": {
        "id": "1fKXXj1zzjy8"
      },
      "source": [
        "Play Store is a Application distribution platform and pre-installed on smartphones that ship with Google Mobile Services and it's free to use. It provides access to content on the Google Play Store, including apps, books, magazines, music, movies, and television programs.Their lots of designers and developers work on it to make play store services outstanding than other stores present in the market."
      ]
    },
    {
      "cell_type": "markdown",
      "metadata": {
        "id": "WZz9EN7-4EGq"
      },
      "source": [
        "To take play store services in outstanding state, it would be great for developers and designer to analyze each and every aspect of current market like what people looking for, trend of a particular service, which type of desgin(UI) mostly liked by user and many more aspect. while considering these factors and work on it will affect the productivity of services. "
      ]
    },
    {
      "cell_type": "markdown",
      "metadata": {
        "id": "O8gPtuNq8Gpv"
      },
      "source": [
        "The objective of our exploratory data analysis project is to understand customer demands better and thus help developers and designers to improve their product engagement on the play store and make great impact on user."
      ]
    },
    {
      "cell_type": "markdown",
      "metadata": {
        "id": "0kdoCLdL-WV-"
      },
      "source": [
        "# **OBJECTIVE**"
      ]
    },
    {
      "cell_type": "markdown",
      "metadata": {
        "id": "WC5LZ1pW-cIV"
      },
      "source": [
        "In this data analysis project we have asked to analyze techanical aspect how about building a good android application and discover key factors responsible for app engagement and success. We also see trend and insights of play store."
      ]
    },
    {
      "cell_type": "markdown",
      "metadata": {
        "id": "vJPNLmp5FNWb"
      },
      "source": [
        "We were given two datasets one is <b>Play Store Data</b> and other is <b>User Review</b>. before watching over data provided, let's first see what actually is Exploratory Data Analysis (EDA)."
      ]
    },
    {
      "cell_type": "markdown",
      "metadata": {
        "id": "XPxAvB5BE3bk"
      },
      "source": [
        "# **What is Exploratory Data Analysis?**"
      ]
    },
    {
      "cell_type": "markdown",
      "metadata": {
        "id": "vaJIpbioG24w"
      },
      "source": [
        "Exploratory Data Analysis (EDA) is an approach to analyzing datasets to summarize their main characteristics, often with visual methods. EDA is used for seeing what the data can tell us before the modeling task. It is not easy to look at a column of numbers or a whole spreadsheet and determine important characteristics of the data. It may be tedious, boring, and/or overwhelming to derive insights by looking at plain numbers. Exploratory data analysis techniques have been devised as an aid in this situation."
      ]
    },
    {
      "cell_type": "markdown",
      "metadata": {
        "id": "pwe9guydWrnt"
      },
      "source": [
        "Exploratory data analysis is generally cross-classified in two ways. First, each method is either non-graphical or graphical. And second, each method is either univariate or multivariate (usually just bivariate)"
      ]
    },
    {
      "cell_type": "markdown",
      "metadata": {
        "id": "uIY0E2a-Wsi1"
      },
      "source": [
        "The following steps involved in thev EDA process:\n",
        "1. Identification of variables and data types\n",
        "2. Analyzing the basic metrics\n",
        "3. Non-Graphical Univariate Analysis\n",
        "4. Graphical Univariate Analysis\n",
        "5. Bivariate Analysis\n",
        "6. Variable transformations\n",
        "7. Missing value treatment\n",
        "8. Outlier treatment\n",
        "9. Correlation Analysis\n",
        "10. Dimensionality Reduction"
      ]
    },
    {
      "cell_type": "markdown",
      "metadata": {
        "id": "UBWcjqiJay5C"
      },
      "source": [
        "# **PROBLEM STATEMENT**"
      ]
    },
    {
      "cell_type": "markdown",
      "metadata": {
        "id": "HBcntaS2a3oS"
      },
      "source": [
        ""
      ]
    },
    {
      "cell_type": "markdown",
      "metadata": {
        "id": "YrVwe1zsYb6F"
      },
      "source": [
        "# **DATASET CONTENT**"
      ]
    },
    {
      "cell_type": "markdown",
      "metadata": {
        "id": "v7xAgQEXYc1E"
      },
      "source": [
        "###There are more than a million application which are available in google playstore.This dataset contain data of 10,000 apps from google playstore.\n",
        "\n",
        "###<b>The Play Store dataset contain following features:</b>\n",
        "\n",
        "\n",
        "1.   <b>App</b>- Name of the apps.\n",
        "2.   <b>Category</b>- Category under which the app falls.\n",
        "3.   <b>Rating</b>- Applications rating in playstore.\n",
        "4.   <b>Reviews</b>- Number of reviews given to apps.\n",
        "5.   <b>Size</b>- Size of the apps.\n",
        "6.   <b>Installs</b>- Number of installs of the apps.\n",
        "7.   <b>Type</b>- If the app is free or paid.\n",
        "8.   <b>Price</b>- Price of the apps.\n",
        "9.   <b>Content Rating</b>- Appropriate target audience of the apps.\n",
        "10.  <b>Genres</b>- Genres under which the app fall.\n",
        "11.  <b>Last updated</b>- Date when the app last updated.\n",
        "12.  <b>Current Ver</b>- Current version of the apps.\n",
        "13.  <b>Android Ver</b>- Minimum android version required for the apps to run.\n",
        "\n",
        "\n",
        "\n"
      ]
    },
    {
      "cell_type": "markdown",
      "metadata": {
        "id": "QouqowvpaUxa"
      },
      "source": [
        "###<b>The User Review dataset contain following features:</b>\n",
        "\n",
        "\n",
        "1.   <b>App</b>- Name of the apps."
      ]
    },
    {
      "cell_type": "markdown",
      "metadata": {
        "id": "9oT0dVEYcnl6"
      },
      "source": [
        "# **Time to Explore and Dive into Given Dataset**"
      ]
    },
    {
      "cell_type": "code",
      "metadata": {
        "id": "al79U42DbCHQ"
      },
      "source": [
        "# Let us begin with importing libraries\n",
        "\n",
        "import pandas as pd # data manipulation\n",
        "import numpy as np  # data manipulation \n",
        "import matplotlib.pyplot as plt # visualization tool\n",
        "import seaborn as sns # visualization tool\n",
        "\n",
        "from datetime import datetime\n",
        "from datetime import date\n",
        "\n",
        "%matplotlib inline"
      ],
      "execution_count": 1,
      "outputs": []
    },
    {
      "cell_type": "code",
      "metadata": {
        "colab": {
          "base_uri": "https://localhost:8080/"
        },
        "id": "qjYW1SUvcH9y",
        "outputId": "fc815c9b-43c3-4213-e625-89746848900e"
      },
      "source": [
        "# Mounting Google Drive \n",
        "\n",
        "from google.colab import drive\n",
        "drive.mount('/content/drive')"
      ],
      "execution_count": 2,
      "outputs": [
        {
          "output_type": "stream",
          "name": "stdout",
          "text": [
            "Drive already mounted at /content/drive; to attempt to forcibly remount, call drive.mount(\"/content/drive\", force_remount=True).\n"
          ]
        }
      ]
    },
    {
      "cell_type": "markdown",
      "metadata": {
        "id": "1cS0BUuIcQHv"
      },
      "source": [
        "#### I will start by importing the csv file into pandas dataframe called df_apps.  "
      ]
    },
    {
      "cell_type": "code",
      "metadata": {
        "id": "ECcwJ1r2erxZ"
      },
      "source": [
        "file_path = \"/content/drive/MyDrive/Almabetter/Capstone project/Capstone Project AlmaBetter EDA/\""
      ],
      "execution_count": 11,
      "outputs": []
    },
    {
      "cell_type": "code",
      "metadata": {
        "id": "C6AAOxQWe3Mo"
      },
      "source": [
        "# importing Play store and user review data\n",
        "\n",
        "df_apps = pd.read_csv(file_path + \"Play Store Data.csv\")\n",
        "df_reviews = pd.read_csv(file_path + \"User Reviews.csv\")"
      ],
      "execution_count": 13,
      "outputs": []
    },
    {
      "cell_type": "markdown",
      "metadata": {
        "id": "MmGpVNTUlXl2"
      },
      "source": [
        "# Explore the Two DataFrames"
      ]
    },
    {
      "cell_type": "code",
      "metadata": {
        "colab": {
          "base_uri": "https://localhost:8080/"
        },
        "id": "h5FkV-3hlZZt",
        "outputId": "ffedf836-6dca-4f0f-caf0-19397d1a7fbc"
      },
      "source": [
        "# print the shape of Two Dataframe\n",
        "print(f\"The shape of Play Store dataframe is {df_apps.shape}\")\n",
        "print(f\"The shape of User Review dataframe is {df_reviews.shape}\")"
      ],
      "execution_count": 18,
      "outputs": [
        {
          "output_type": "stream",
          "name": "stdout",
          "text": [
            "The shape of Play Store dataframe is (10841, 13)\n",
            "The shape of User Review dataframe is (64295, 5)\n"
          ]
        }
      ]
    },
    {
      "cell_type": "code",
      "metadata": {
        "colab": {
          "base_uri": "https://localhost:8080/"
        },
        "id": "wXPvYhVllh3e",
        "outputId": "b61b3902-7c1f-4858-e513-756dff5d024f"
      },
      "source": [
        "# print the columns of Two dataframes\n",
        "\n",
        "print(f\"The columns of Play Store Dataframe are \\n \\n {df_apps.columns}\\n\")\n",
        "print(f\"The columns of Play Store Dataframe are \\n \\n {df_reviews.columns}\")\n"
      ],
      "execution_count": 45,
      "outputs": [
        {
          "output_type": "stream",
          "name": "stdout",
          "text": [
            "The columns of Play Store Dataframe are \n",
            " \n",
            " Index(['App', 'Category', 'Rating', 'Reviews', 'Size', 'Installs', 'Type',\n",
            "       'Price', 'Content Rating', 'Genres', 'Last Updated', 'Current Ver',\n",
            "       'Android Ver'],\n",
            "      dtype='object')\n",
            "\n",
            "The columns of Play Store Dataframe are \n",
            " \n",
            " Index(['App', 'Translated_Review', 'Sentiment', 'Sentiment_Polarity',\n",
            "       'Sentiment_Subjectivity'],\n",
            "      dtype='object')\n"
          ]
        }
      ]
    },
    {
      "cell_type": "markdown",
      "metadata": {
        "id": "a7rMerRzgEq5"
      },
      "source": [
        "# Lets Explore The Play Store Dataset"
      ]
    },
    {
      "cell_type": "code",
      "metadata": {
        "colab": {
          "base_uri": "https://localhost:8080/",
          "height": 624
        },
        "id": "VQT5TXpLjeJo",
        "outputId": "945488ef-c4d7-4e3c-d87c-76d37f659476"
      },
      "source": [
        "# print the 5 head and 5 row of Play Store dataframe\n",
        "\n",
        "concat_Playstore = pd.concat([df_apps.head(5),df_apps.tail(5)])\n",
        "concat_Playstore"
      ],
      "execution_count": 17,
      "outputs": [
        {
          "output_type": "execute_result",
          "data": {
            "text/html": [
              "<div>\n",
              "<style scoped>\n",
              "    .dataframe tbody tr th:only-of-type {\n",
              "        vertical-align: middle;\n",
              "    }\n",
              "\n",
              "    .dataframe tbody tr th {\n",
              "        vertical-align: top;\n",
              "    }\n",
              "\n",
              "    .dataframe thead th {\n",
              "        text-align: right;\n",
              "    }\n",
              "</style>\n",
              "<table border=\"1\" class=\"dataframe\">\n",
              "  <thead>\n",
              "    <tr style=\"text-align: right;\">\n",
              "      <th></th>\n",
              "      <th>App</th>\n",
              "      <th>Category</th>\n",
              "      <th>Rating</th>\n",
              "      <th>Reviews</th>\n",
              "      <th>Size</th>\n",
              "      <th>Installs</th>\n",
              "      <th>Type</th>\n",
              "      <th>Price</th>\n",
              "      <th>Content Rating</th>\n",
              "      <th>Genres</th>\n",
              "      <th>Last Updated</th>\n",
              "      <th>Current Ver</th>\n",
              "      <th>Android Ver</th>\n",
              "    </tr>\n",
              "  </thead>\n",
              "  <tbody>\n",
              "    <tr>\n",
              "      <th>0</th>\n",
              "      <td>Photo Editor &amp; Candy Camera &amp; Grid &amp; ScrapBook</td>\n",
              "      <td>ART_AND_DESIGN</td>\n",
              "      <td>4.1</td>\n",
              "      <td>159</td>\n",
              "      <td>19M</td>\n",
              "      <td>10,000+</td>\n",
              "      <td>Free</td>\n",
              "      <td>0</td>\n",
              "      <td>Everyone</td>\n",
              "      <td>Art &amp; Design</td>\n",
              "      <td>January 7, 2018</td>\n",
              "      <td>1.0.0</td>\n",
              "      <td>4.0.3 and up</td>\n",
              "    </tr>\n",
              "    <tr>\n",
              "      <th>1</th>\n",
              "      <td>Coloring book moana</td>\n",
              "      <td>ART_AND_DESIGN</td>\n",
              "      <td>3.9</td>\n",
              "      <td>967</td>\n",
              "      <td>14M</td>\n",
              "      <td>500,000+</td>\n",
              "      <td>Free</td>\n",
              "      <td>0</td>\n",
              "      <td>Everyone</td>\n",
              "      <td>Art &amp; Design;Pretend Play</td>\n",
              "      <td>January 15, 2018</td>\n",
              "      <td>2.0.0</td>\n",
              "      <td>4.0.3 and up</td>\n",
              "    </tr>\n",
              "    <tr>\n",
              "      <th>2</th>\n",
              "      <td>U Launcher Lite – FREE Live Cool Themes, Hide ...</td>\n",
              "      <td>ART_AND_DESIGN</td>\n",
              "      <td>4.7</td>\n",
              "      <td>87510</td>\n",
              "      <td>8.7M</td>\n",
              "      <td>5,000,000+</td>\n",
              "      <td>Free</td>\n",
              "      <td>0</td>\n",
              "      <td>Everyone</td>\n",
              "      <td>Art &amp; Design</td>\n",
              "      <td>August 1, 2018</td>\n",
              "      <td>1.2.4</td>\n",
              "      <td>4.0.3 and up</td>\n",
              "    </tr>\n",
              "    <tr>\n",
              "      <th>3</th>\n",
              "      <td>Sketch - Draw &amp; Paint</td>\n",
              "      <td>ART_AND_DESIGN</td>\n",
              "      <td>4.5</td>\n",
              "      <td>215644</td>\n",
              "      <td>25M</td>\n",
              "      <td>50,000,000+</td>\n",
              "      <td>Free</td>\n",
              "      <td>0</td>\n",
              "      <td>Teen</td>\n",
              "      <td>Art &amp; Design</td>\n",
              "      <td>June 8, 2018</td>\n",
              "      <td>Varies with device</td>\n",
              "      <td>4.2 and up</td>\n",
              "    </tr>\n",
              "    <tr>\n",
              "      <th>4</th>\n",
              "      <td>Pixel Draw - Number Art Coloring Book</td>\n",
              "      <td>ART_AND_DESIGN</td>\n",
              "      <td>4.3</td>\n",
              "      <td>967</td>\n",
              "      <td>2.8M</td>\n",
              "      <td>100,000+</td>\n",
              "      <td>Free</td>\n",
              "      <td>0</td>\n",
              "      <td>Everyone</td>\n",
              "      <td>Art &amp; Design;Creativity</td>\n",
              "      <td>June 20, 2018</td>\n",
              "      <td>1.1</td>\n",
              "      <td>4.4 and up</td>\n",
              "    </tr>\n",
              "    <tr>\n",
              "      <th>10836</th>\n",
              "      <td>Sya9a Maroc - FR</td>\n",
              "      <td>FAMILY</td>\n",
              "      <td>4.5</td>\n",
              "      <td>38</td>\n",
              "      <td>53M</td>\n",
              "      <td>5,000+</td>\n",
              "      <td>Free</td>\n",
              "      <td>0</td>\n",
              "      <td>Everyone</td>\n",
              "      <td>Education</td>\n",
              "      <td>July 25, 2017</td>\n",
              "      <td>1.48</td>\n",
              "      <td>4.1 and up</td>\n",
              "    </tr>\n",
              "    <tr>\n",
              "      <th>10837</th>\n",
              "      <td>Fr. Mike Schmitz Audio Teachings</td>\n",
              "      <td>FAMILY</td>\n",
              "      <td>5.0</td>\n",
              "      <td>4</td>\n",
              "      <td>3.6M</td>\n",
              "      <td>100+</td>\n",
              "      <td>Free</td>\n",
              "      <td>0</td>\n",
              "      <td>Everyone</td>\n",
              "      <td>Education</td>\n",
              "      <td>July 6, 2018</td>\n",
              "      <td>1.0</td>\n",
              "      <td>4.1 and up</td>\n",
              "    </tr>\n",
              "    <tr>\n",
              "      <th>10838</th>\n",
              "      <td>Parkinson Exercices FR</td>\n",
              "      <td>MEDICAL</td>\n",
              "      <td>NaN</td>\n",
              "      <td>3</td>\n",
              "      <td>9.5M</td>\n",
              "      <td>1,000+</td>\n",
              "      <td>Free</td>\n",
              "      <td>0</td>\n",
              "      <td>Everyone</td>\n",
              "      <td>Medical</td>\n",
              "      <td>January 20, 2017</td>\n",
              "      <td>1.0</td>\n",
              "      <td>2.2 and up</td>\n",
              "    </tr>\n",
              "    <tr>\n",
              "      <th>10839</th>\n",
              "      <td>The SCP Foundation DB fr nn5n</td>\n",
              "      <td>BOOKS_AND_REFERENCE</td>\n",
              "      <td>4.5</td>\n",
              "      <td>114</td>\n",
              "      <td>Varies with device</td>\n",
              "      <td>1,000+</td>\n",
              "      <td>Free</td>\n",
              "      <td>0</td>\n",
              "      <td>Mature 17+</td>\n",
              "      <td>Books &amp; Reference</td>\n",
              "      <td>January 19, 2015</td>\n",
              "      <td>Varies with device</td>\n",
              "      <td>Varies with device</td>\n",
              "    </tr>\n",
              "    <tr>\n",
              "      <th>10840</th>\n",
              "      <td>iHoroscope - 2018 Daily Horoscope &amp; Astrology</td>\n",
              "      <td>LIFESTYLE</td>\n",
              "      <td>4.5</td>\n",
              "      <td>398307</td>\n",
              "      <td>19M</td>\n",
              "      <td>10,000,000+</td>\n",
              "      <td>Free</td>\n",
              "      <td>0</td>\n",
              "      <td>Everyone</td>\n",
              "      <td>Lifestyle</td>\n",
              "      <td>July 25, 2018</td>\n",
              "      <td>Varies with device</td>\n",
              "      <td>Varies with device</td>\n",
              "    </tr>\n",
              "  </tbody>\n",
              "</table>\n",
              "</div>"
            ],
            "text/plain": [
              "                                                     App  ...         Android Ver\n",
              "0         Photo Editor & Candy Camera & Grid & ScrapBook  ...        4.0.3 and up\n",
              "1                                    Coloring book moana  ...        4.0.3 and up\n",
              "2      U Launcher Lite – FREE Live Cool Themes, Hide ...  ...        4.0.3 and up\n",
              "3                                  Sketch - Draw & Paint  ...          4.2 and up\n",
              "4                  Pixel Draw - Number Art Coloring Book  ...          4.4 and up\n",
              "10836                                   Sya9a Maroc - FR  ...          4.1 and up\n",
              "10837                   Fr. Mike Schmitz Audio Teachings  ...          4.1 and up\n",
              "10838                             Parkinson Exercices FR  ...          2.2 and up\n",
              "10839                      The SCP Foundation DB fr nn5n  ...  Varies with device\n",
              "10840      iHoroscope - 2018 Daily Horoscope & Astrology  ...  Varies with device\n",
              "\n",
              "[10 rows x 13 columns]"
            ]
          },
          "metadata": {},
          "execution_count": 17
        }
      ]
    },
    {
      "cell_type": "code",
      "metadata": {
        "colab": {
          "base_uri": "https://localhost:8080/"
        },
        "id": "DW1XIRDufKv3",
        "outputId": "dfb2c77b-e327-4793-e923-8f36e52298ad"
      },
      "source": [
        "# print rows and column of play store data\n",
        "\n",
        "print(f\"There are total {df_apps.shape[0]} rows and {df_apps.shape[1]} columns in playstore dataframe\")"
      ],
      "execution_count": 49,
      "outputs": [
        {
          "output_type": "stream",
          "name": "stdout",
          "text": [
            "There are total 10841 rows and 13 columns in playstore dataframe\n"
          ]
        }
      ]
    },
    {
      "cell_type": "code",
      "metadata": {
        "id": "GZRHFRcZkGWd"
      },
      "source": [
        " "
      ],
      "execution_count": null,
      "outputs": []
    }
  ]
}