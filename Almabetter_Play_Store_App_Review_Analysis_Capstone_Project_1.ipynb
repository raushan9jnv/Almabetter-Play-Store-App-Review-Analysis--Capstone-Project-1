{
  "nbformat": 4,
  "nbformat_minor": 0,
  "metadata": {
    "colab": {
      "name": "Almabetter Play Store App Review Analysis- Capstone Project-1",
      "provenance": [],
      "collapsed_sections": [],
      "mount_file_id": "1KWjQmERUx0-s3yBx5TghuWrXqx7n3A7I",
      "authorship_tag": "ABX9TyMM2qVAilpkUhoqkw9fsnjV",
      "include_colab_link": true
    },
    "kernelspec": {
      "name": "python3",
      "display_name": "Python 3"
    },
    "language_info": {
      "name": "python"
    }
  },
  "cells": [
    {
      "cell_type": "markdown",
      "metadata": {
        "id": "view-in-github",
        "colab_type": "text"
      },
      "source": [
        "<a href=\"https://colab.research.google.com/github/raushan9jnv/Almabetter-Play-Store-App-Review-Analysis--Capstone-Project-1/blob/main/Almabetter_Play_Store_App_Review_Analysis_Capstone_Project_1.ipynb\" target=\"_parent\"><img src=\"https://colab.research.google.com/assets/colab-badge.svg\" alt=\"Open In Colab\"/></a>"
      ]
    },
    {
      "cell_type": "markdown",
      "metadata": {
        "id": "9mH-hQomHxee"
      },
      "source": [
        ""
      ]
    },
    {
      "cell_type": "markdown",
      "metadata": {
        "id": "0JaTGOWcyDLv"
      },
      "source": [
        "## <b> The Play Store apps data has enormous potential to drive app-making businesses to success. Actionable insights can be drawn for developers to work on and capture the Android market. </b>\n",
        "\n",
        "## <b> Each app (row) has values for catergory, rating, size, and more. Another dataset contains customer reviews of the android apps.</b>\n",
        "\n",
        "## <b> Explore and analyze the data to discover key factors responsible for app engagement and success. </b>"
      ]
    },
    {
      "cell_type": "markdown",
      "metadata": {
        "id": "b9u0N94_U2Eq"
      },
      "source": [
        "# **INTRODUCTION**"
      ]
    },
    {
      "cell_type": "markdown",
      "metadata": {
        "id": "1fKXXj1zzjy8"
      },
      "source": [
        "Play Store is a Application distribution platform and pre-installed on smartphones that ship with Google Mobile Services and it's free to use. It provides access to content on the Google Play Store, including apps, books, magazines, music, movies, and television programs.Their lots of designers and developers work on it to make play store services outstanding than other stores present in the market."
      ]
    },
    {
      "cell_type": "markdown",
      "metadata": {
        "id": "WZz9EN7-4EGq"
      },
      "source": [
        "To take play store services in outstanding state, it would be great for developers and designer to analyze each and every aspect of current market like what people looking for, trend of a particular service, which type of desgin(UI) mostly liked by user and many more aspect. while considering these factors and work on it will affect the productivity of services. "
      ]
    },
    {
      "cell_type": "markdown",
      "metadata": {
        "id": "O8gPtuNq8Gpv"
      },
      "source": [
        "The objective of our exploratory data analysis project is to understand customer demands better and thus help developers and designers to improve their product engagement on the play store and make great impact on user."
      ]
    },
    {
      "cell_type": "markdown",
      "metadata": {
        "id": "0kdoCLdL-WV-"
      },
      "source": [
        "# **OBJECTIVE**"
      ]
    },
    {
      "cell_type": "markdown",
      "metadata": {
        "id": "WC5LZ1pW-cIV"
      },
      "source": [
        "In this data analysis project we have asked to analyze techanical aspect how about building a good android application and discover key factors responsible for app engagement and success. We also see trend and insights of play store."
      ]
    },
    {
      "cell_type": "markdown",
      "metadata": {
        "id": "vJPNLmp5FNWb"
      },
      "source": [
        "We were given two datasets one is <b>Play Store Data</b> and other is <b>User Review</b>. before watching over data provided, let's first see what actually is Exploratory Data Analysis (EDA)."
      ]
    },
    {
      "cell_type": "markdown",
      "metadata": {
        "id": "XPxAvB5BE3bk"
      },
      "source": [
        "# **What is Exploratory Data Analysis?**"
      ]
    },
    {
      "cell_type": "markdown",
      "metadata": {
        "id": "vaJIpbioG24w"
      },
      "source": [
        "Exploratory Data Analysis (EDA) is an approach to analyzing datasets to summarize their main characteristics, often with visual methods. EDA is used for seeing what the data can tell us before the modeling task. It is not easy to look at a column of numbers or a whole spreadsheet and determine important characteristics of the data. It may be tedious, boring, and/or overwhelming to derive insights by looking at plain numbers. Exploratory data analysis techniques have been devised as an aid in this situation."
      ]
    },
    {
      "cell_type": "markdown",
      "metadata": {
        "id": "pwe9guydWrnt"
      },
      "source": [
        "Exploratory data analysis is generally cross-classified in two ways. First, each method is either non-graphical or graphical. And second, each method is either univariate or multivariate (usually just bivariate)"
      ]
    },
    {
      "cell_type": "markdown",
      "metadata": {
        "id": "uIY0E2a-Wsi1"
      },
      "source": [
        "The following steps involved in thev EDA process:\n",
        "1. Identification of variables and data types\n",
        "2. Analyzing the basic metrics\n",
        "3. Non-Graphical Univariate Analysis\n",
        "4. Graphical Univariate Analysis\n",
        "5. Bivariate Analysis\n",
        "6. Variable transformations\n",
        "7. Missing value treatment\n",
        "8. Outlier treatment\n",
        "9. Correlation Analysis\n",
        "10. Dimensionality Reduction"
      ]
    },
    {
      "cell_type": "markdown",
      "metadata": {
        "id": "UBWcjqiJay5C"
      },
      "source": [
        "# **PROBLEM STATEMENT**"
      ]
    },
    {
      "cell_type": "markdown",
      "metadata": {
        "id": "HBcntaS2a3oS"
      },
      "source": [
        ""
      ]
    },
    {
      "cell_type": "markdown",
      "metadata": {
        "id": "YrVwe1zsYb6F"
      },
      "source": [
        "# **DATASET CONTENT**"
      ]
    },
    {
      "cell_type": "markdown",
      "metadata": {
        "id": "v7xAgQEXYc1E"
      },
      "source": [
        "###There are more than a million application which are available in google playstore.This dataset contain data of 10,000 apps from google playstore.\n",
        "\n",
        "###<b>The Play Store dataset contain following features:</b>\n",
        "\n",
        "\n",
        "1.   <b>App</b>- Name of the apps.\n",
        "2.   <b>Category</b>- Category under which the app falls.\n",
        "3.   <b>Rating</b>- Applications rating in playstore.\n",
        "4.   <b>Reviews</b>- Number of reviews given to apps.\n",
        "5.   <b>Size</b>- Size of the apps.\n",
        "6.   <b>Installs</b>- Number of installs of the apps.\n",
        "7.   <b>Type</b>- If the app is free or paid.\n",
        "8.   <b>Price</b>- Price of the apps.\n",
        "9.   <b>Content Rating</b>- Appropriate target audience of the apps.\n",
        "10.  <b>Genres</b>- Genres under which the app fall.\n",
        "11.  <b>Last updated</b>- Date when the app last updated.\n",
        "12.  <b>Current Ver</b>- Current version of the apps.\n",
        "13.  <b>Android Ver</b>- Minimum android version required for the apps to run.\n",
        "\n",
        "\n",
        "\n"
      ]
    },
    {
      "cell_type": "markdown",
      "metadata": {
        "id": "QouqowvpaUxa"
      },
      "source": [
        "###<b>The User Review dataset contain following features:</b>\n",
        "\n",
        "\n",
        "1.   <b>App</b>- Name of the apps."
      ]
    },
    {
      "cell_type": "markdown",
      "metadata": {
        "id": "9oT0dVEYcnl6"
      },
      "source": [
        "# **Time to Explore and Dive into Given Dataset**"
      ]
    },
    {
      "cell_type": "code",
      "metadata": {
        "id": "al79U42DbCHQ"
      },
      "source": [
        "# Let us begin with importing libraries\n",
        "\n",
        "import pandas as pd # data manipulation\n",
        "import numpy as np  # data manipulation \n",
        "import matplotlib.pyplot as plt # visualization tool\n",
        "import seaborn as sns # visualization tool\n",
        "\n",
        "from datetime import datetime\n",
        "from datetime import date\n",
        "\n",
        "%matplotlib inline"
      ],
      "execution_count": 27,
      "outputs": []
    },
    {
      "cell_type": "code",
      "metadata": {
        "colab": {
          "base_uri": "https://localhost:8080/"
        },
        "id": "qjYW1SUvcH9y",
        "outputId": "7e2c23d1-82bd-4f8d-c8bc-b2cb69d12bce"
      },
      "source": [
        "# Mounting Google Drive \n",
        "\n",
        "from google.colab import drive\n",
        "drive.mount('/content/drive')"
      ],
      "execution_count": 28,
      "outputs": [
        {
          "output_type": "stream",
          "name": "stdout",
          "text": [
            "Drive already mounted at /content/drive; to attempt to forcibly remount, call drive.mount(\"/content/drive\", force_remount=True).\n"
          ]
        }
      ]
    },
    {
      "cell_type": "markdown",
      "metadata": {
        "id": "1cS0BUuIcQHv"
      },
      "source": [
        "#### I will start by importing the csv file into pandas dataframe called df_apps.  "
      ]
    },
    {
      "cell_type": "code",
      "metadata": {
        "id": "ECcwJ1r2erxZ"
      },
      "source": [
        "file_path = \"/content/drive/MyDrive/Almabetter/Capstone project/Capstone Project AlmaBetter EDA/\""
      ],
      "execution_count": 29,
      "outputs": []
    },
    {
      "cell_type": "code",
      "metadata": {
        "id": "C6AAOxQWe3Mo"
      },
      "source": [
        "# importing Play store and user review data\n",
        "\n",
        "df_apps = pd.read_csv(file_path + \"Play Store Data.csv\")\n",
        "df_reviews = pd.read_csv(file_path + \"User Reviews.csv\")"
      ],
      "execution_count": 30,
      "outputs": []
    },
    {
      "cell_type": "markdown",
      "metadata": {
        "id": "MmGpVNTUlXl2"
      },
      "source": [
        "# Explore the Two DataFrames"
      ]
    },
    {
      "cell_type": "code",
      "metadata": {
        "colab": {
          "base_uri": "https://localhost:8080/"
        },
        "id": "h5FkV-3hlZZt",
        "outputId": "54bff6db-a952-40b3-d282-2eae4a133161"
      },
      "source": [
        "# print the shape of Two Dataframe\n",
        "print(f\"The shape of Play Store dataframe is {df_apps.shape}\")\n",
        "print(f\"The shape of User Review dataframe is {df_reviews.shape}\")"
      ],
      "execution_count": 31,
      "outputs": [
        {
          "output_type": "stream",
          "name": "stdout",
          "text": [
            "The shape of Play Store dataframe is (10841, 13)\n",
            "The shape of User Review dataframe is (64295, 5)\n"
          ]
        }
      ]
    },
    {
      "cell_type": "code",
      "metadata": {
        "colab": {
          "base_uri": "https://localhost:8080/"
        },
        "id": "wXPvYhVllh3e",
        "outputId": "751b08d8-cf65-43b0-924a-cecdb6d9d158"
      },
      "source": [
        "# print the columns of Two dataframes\n",
        "\n",
        "print(f\"The columns of Play Store Dataframe are \\n \\n {df_apps.columns}\\n\")\n",
        "print(f\"The columns of Play Store Dataframe are \\n \\n {df_reviews.columns}\")\n"
      ],
      "execution_count": 32,
      "outputs": [
        {
          "output_type": "stream",
          "name": "stdout",
          "text": [
            "The columns of Play Store Dataframe are \n",
            " \n",
            " Index(['App', 'Category', 'Rating', 'Reviews', 'Size', 'Installs', 'Type',\n",
            "       'Price', 'Content Rating', 'Genres', 'Last Updated', 'Current Ver',\n",
            "       'Android Ver'],\n",
            "      dtype='object')\n",
            "\n",
            "The columns of Play Store Dataframe are \n",
            " \n",
            " Index(['App', 'Translated_Review', 'Sentiment', 'Sentiment_Polarity',\n",
            "       'Sentiment_Subjectivity'],\n",
            "      dtype='object')\n"
          ]
        }
      ]
    },
    {
      "cell_type": "code",
      "metadata": {
        "colab": {
          "base_uri": "https://localhost:8080/"
        },
        "id": "q1jmJpPTppC8",
        "outputId": "1f59bd0c-835a-4f65-a068-6b9b8d372381"
      },
      "source": [
        "# Filling the space between the column names with \"_\" for ease of use in the play_store.\n",
        "\n",
        "df_apps.columns = df_apps.columns.str.replace(\" \",\"_\")\n",
        "df_apps.columns"
      ],
      "execution_count": 33,
      "outputs": [
        {
          "output_type": "execute_result",
          "data": {
            "text/plain": [
              "Index(['App', 'Category', 'Rating', 'Reviews', 'Size', 'Installs', 'Type',\n",
              "       'Price', 'Content_Rating', 'Genres', 'Last_Updated', 'Current_Ver',\n",
              "       'Android_Ver'],\n",
              "      dtype='object')"
            ]
          },
          "metadata": {},
          "execution_count": 33
        }
      ]
    },
    {
      "cell_type": "markdown",
      "metadata": {
        "id": "a7rMerRzgEq5"
      },
      "source": [
        "# Lets Explore The Play Store Dataset"
      ]
    },
    {
      "cell_type": "code",
      "metadata": {
        "colab": {
          "base_uri": "https://localhost:8080/",
          "height": 758
        },
        "id": "VQT5TXpLjeJo",
        "outputId": "3ab5dd20-84c6-4ad6-ce1f-c829b98c0770"
      },
      "source": [
        "# print the 5 head and 5 row of Play Store dataframe\n",
        "\n",
        "concat_Playstore = pd.concat([df_apps.head(5),df_apps.tail(5)])\n",
        "concat_Playstore"
      ],
      "execution_count": 34,
      "outputs": [
        {
          "output_type": "execute_result",
          "data": {
            "text/html": [
              "<div>\n",
              "<style scoped>\n",
              "    .dataframe tbody tr th:only-of-type {\n",
              "        vertical-align: middle;\n",
              "    }\n",
              "\n",
              "    .dataframe tbody tr th {\n",
              "        vertical-align: top;\n",
              "    }\n",
              "\n",
              "    .dataframe thead th {\n",
              "        text-align: right;\n",
              "    }\n",
              "</style>\n",
              "<table border=\"1\" class=\"dataframe\">\n",
              "  <thead>\n",
              "    <tr style=\"text-align: right;\">\n",
              "      <th></th>\n",
              "      <th>App</th>\n",
              "      <th>Category</th>\n",
              "      <th>Rating</th>\n",
              "      <th>Reviews</th>\n",
              "      <th>Size</th>\n",
              "      <th>Installs</th>\n",
              "      <th>Type</th>\n",
              "      <th>Price</th>\n",
              "      <th>Content_Rating</th>\n",
              "      <th>Genres</th>\n",
              "      <th>Last_Updated</th>\n",
              "      <th>Current_Ver</th>\n",
              "      <th>Android_Ver</th>\n",
              "    </tr>\n",
              "  </thead>\n",
              "  <tbody>\n",
              "    <tr>\n",
              "      <th>0</th>\n",
              "      <td>Photo Editor &amp; Candy Camera &amp; Grid &amp; ScrapBook</td>\n",
              "      <td>ART_AND_DESIGN</td>\n",
              "      <td>4.1</td>\n",
              "      <td>159</td>\n",
              "      <td>19M</td>\n",
              "      <td>10,000+</td>\n",
              "      <td>Free</td>\n",
              "      <td>0</td>\n",
              "      <td>Everyone</td>\n",
              "      <td>Art &amp; Design</td>\n",
              "      <td>January 7, 2018</td>\n",
              "      <td>1.0.0</td>\n",
              "      <td>4.0.3 and up</td>\n",
              "    </tr>\n",
              "    <tr>\n",
              "      <th>1</th>\n",
              "      <td>Coloring book moana</td>\n",
              "      <td>ART_AND_DESIGN</td>\n",
              "      <td>3.9</td>\n",
              "      <td>967</td>\n",
              "      <td>14M</td>\n",
              "      <td>500,000+</td>\n",
              "      <td>Free</td>\n",
              "      <td>0</td>\n",
              "      <td>Everyone</td>\n",
              "      <td>Art &amp; Design;Pretend Play</td>\n",
              "      <td>January 15, 2018</td>\n",
              "      <td>2.0.0</td>\n",
              "      <td>4.0.3 and up</td>\n",
              "    </tr>\n",
              "    <tr>\n",
              "      <th>2</th>\n",
              "      <td>U Launcher Lite – FREE Live Cool Themes, Hide ...</td>\n",
              "      <td>ART_AND_DESIGN</td>\n",
              "      <td>4.7</td>\n",
              "      <td>87510</td>\n",
              "      <td>8.7M</td>\n",
              "      <td>5,000,000+</td>\n",
              "      <td>Free</td>\n",
              "      <td>0</td>\n",
              "      <td>Everyone</td>\n",
              "      <td>Art &amp; Design</td>\n",
              "      <td>August 1, 2018</td>\n",
              "      <td>1.2.4</td>\n",
              "      <td>4.0.3 and up</td>\n",
              "    </tr>\n",
              "    <tr>\n",
              "      <th>3</th>\n",
              "      <td>Sketch - Draw &amp; Paint</td>\n",
              "      <td>ART_AND_DESIGN</td>\n",
              "      <td>4.5</td>\n",
              "      <td>215644</td>\n",
              "      <td>25M</td>\n",
              "      <td>50,000,000+</td>\n",
              "      <td>Free</td>\n",
              "      <td>0</td>\n",
              "      <td>Teen</td>\n",
              "      <td>Art &amp; Design</td>\n",
              "      <td>June 8, 2018</td>\n",
              "      <td>Varies with device</td>\n",
              "      <td>4.2 and up</td>\n",
              "    </tr>\n",
              "    <tr>\n",
              "      <th>4</th>\n",
              "      <td>Pixel Draw - Number Art Coloring Book</td>\n",
              "      <td>ART_AND_DESIGN</td>\n",
              "      <td>4.3</td>\n",
              "      <td>967</td>\n",
              "      <td>2.8M</td>\n",
              "      <td>100,000+</td>\n",
              "      <td>Free</td>\n",
              "      <td>0</td>\n",
              "      <td>Everyone</td>\n",
              "      <td>Art &amp; Design;Creativity</td>\n",
              "      <td>June 20, 2018</td>\n",
              "      <td>1.1</td>\n",
              "      <td>4.4 and up</td>\n",
              "    </tr>\n",
              "    <tr>\n",
              "      <th>10836</th>\n",
              "      <td>Sya9a Maroc - FR</td>\n",
              "      <td>FAMILY</td>\n",
              "      <td>4.5</td>\n",
              "      <td>38</td>\n",
              "      <td>53M</td>\n",
              "      <td>5,000+</td>\n",
              "      <td>Free</td>\n",
              "      <td>0</td>\n",
              "      <td>Everyone</td>\n",
              "      <td>Education</td>\n",
              "      <td>July 25, 2017</td>\n",
              "      <td>1.48</td>\n",
              "      <td>4.1 and up</td>\n",
              "    </tr>\n",
              "    <tr>\n",
              "      <th>10837</th>\n",
              "      <td>Fr. Mike Schmitz Audio Teachings</td>\n",
              "      <td>FAMILY</td>\n",
              "      <td>5.0</td>\n",
              "      <td>4</td>\n",
              "      <td>3.6M</td>\n",
              "      <td>100+</td>\n",
              "      <td>Free</td>\n",
              "      <td>0</td>\n",
              "      <td>Everyone</td>\n",
              "      <td>Education</td>\n",
              "      <td>July 6, 2018</td>\n",
              "      <td>1.0</td>\n",
              "      <td>4.1 and up</td>\n",
              "    </tr>\n",
              "    <tr>\n",
              "      <th>10838</th>\n",
              "      <td>Parkinson Exercices FR</td>\n",
              "      <td>MEDICAL</td>\n",
              "      <td>NaN</td>\n",
              "      <td>3</td>\n",
              "      <td>9.5M</td>\n",
              "      <td>1,000+</td>\n",
              "      <td>Free</td>\n",
              "      <td>0</td>\n",
              "      <td>Everyone</td>\n",
              "      <td>Medical</td>\n",
              "      <td>January 20, 2017</td>\n",
              "      <td>1.0</td>\n",
              "      <td>2.2 and up</td>\n",
              "    </tr>\n",
              "    <tr>\n",
              "      <th>10839</th>\n",
              "      <td>The SCP Foundation DB fr nn5n</td>\n",
              "      <td>BOOKS_AND_REFERENCE</td>\n",
              "      <td>4.5</td>\n",
              "      <td>114</td>\n",
              "      <td>Varies with device</td>\n",
              "      <td>1,000+</td>\n",
              "      <td>Free</td>\n",
              "      <td>0</td>\n",
              "      <td>Mature 17+</td>\n",
              "      <td>Books &amp; Reference</td>\n",
              "      <td>January 19, 2015</td>\n",
              "      <td>Varies with device</td>\n",
              "      <td>Varies with device</td>\n",
              "    </tr>\n",
              "    <tr>\n",
              "      <th>10840</th>\n",
              "      <td>iHoroscope - 2018 Daily Horoscope &amp; Astrology</td>\n",
              "      <td>LIFESTYLE</td>\n",
              "      <td>4.5</td>\n",
              "      <td>398307</td>\n",
              "      <td>19M</td>\n",
              "      <td>10,000,000+</td>\n",
              "      <td>Free</td>\n",
              "      <td>0</td>\n",
              "      <td>Everyone</td>\n",
              "      <td>Lifestyle</td>\n",
              "      <td>July 25, 2018</td>\n",
              "      <td>Varies with device</td>\n",
              "      <td>Varies with device</td>\n",
              "    </tr>\n",
              "  </tbody>\n",
              "</table>\n",
              "</div>"
            ],
            "text/plain": [
              "                                                     App  ...         Android_Ver\n",
              "0         Photo Editor & Candy Camera & Grid & ScrapBook  ...        4.0.3 and up\n",
              "1                                    Coloring book moana  ...        4.0.3 and up\n",
              "2      U Launcher Lite – FREE Live Cool Themes, Hide ...  ...        4.0.3 and up\n",
              "3                                  Sketch - Draw & Paint  ...          4.2 and up\n",
              "4                  Pixel Draw - Number Art Coloring Book  ...          4.4 and up\n",
              "10836                                   Sya9a Maroc - FR  ...          4.1 and up\n",
              "10837                   Fr. Mike Schmitz Audio Teachings  ...          4.1 and up\n",
              "10838                             Parkinson Exercices FR  ...          2.2 and up\n",
              "10839                      The SCP Foundation DB fr nn5n  ...  Varies with device\n",
              "10840      iHoroscope - 2018 Daily Horoscope & Astrology  ...  Varies with device\n",
              "\n",
              "[10 rows x 13 columns]"
            ]
          },
          "metadata": {},
          "execution_count": 34
        }
      ]
    },
    {
      "cell_type": "code",
      "metadata": {
        "colab": {
          "base_uri": "https://localhost:8080/"
        },
        "id": "DW1XIRDufKv3",
        "outputId": "f06b9758-1a20-4229-f584-def588ae7aa4"
      },
      "source": [
        "# print rows and column of play store data\n",
        "\n",
        "print(f\"There are total {df_apps.shape[0]} rows and {df_apps.shape[1]} columns in playstore dataframe.\")"
      ],
      "execution_count": 35,
      "outputs": [
        {
          "output_type": "stream",
          "name": "stdout",
          "text": [
            "There are total 10841 rows and 13 columns in playstore dataframe.\n"
          ]
        }
      ]
    },
    {
      "cell_type": "code",
      "metadata": {
        "colab": {
          "base_uri": "https://localhost:8080/"
        },
        "id": "3lZhH6HxquYN",
        "outputId": "c8d9c058-dfc0-4391-c131-dc47f4cd9c3f"
      },
      "source": [
        "df_apps.info()"
      ],
      "execution_count": 36,
      "outputs": [
        {
          "output_type": "stream",
          "name": "stdout",
          "text": [
            "<class 'pandas.core.frame.DataFrame'>\n",
            "RangeIndex: 10841 entries, 0 to 10840\n",
            "Data columns (total 13 columns):\n",
            " #   Column          Non-Null Count  Dtype  \n",
            "---  ------          --------------  -----  \n",
            " 0   App             10841 non-null  object \n",
            " 1   Category        10841 non-null  object \n",
            " 2   Rating          9367 non-null   float64\n",
            " 3   Reviews         10841 non-null  object \n",
            " 4   Size            10841 non-null  object \n",
            " 5   Installs        10841 non-null  object \n",
            " 6   Type            10840 non-null  object \n",
            " 7   Price           10841 non-null  object \n",
            " 8   Content_Rating  10840 non-null  object \n",
            " 9   Genres          10841 non-null  object \n",
            " 10  Last_Updated    10841 non-null  object \n",
            " 11  Current_Ver     10833 non-null  object \n",
            " 12  Android_Ver     10838 non-null  object \n",
            "dtypes: float64(1), object(12)\n",
            "memory usage: 1.1+ MB\n"
          ]
        }
      ]
    },
    {
      "cell_type": "code",
      "metadata": {
        "colab": {
          "base_uri": "https://localhost:8080/"
        },
        "id": "iK0cAWqxVnT0",
        "outputId": "760a4ac8-8139-4f8c-95cd-2603b62f37f3"
      },
      "source": [
        "df_apps.columns"
      ],
      "execution_count": 37,
      "outputs": [
        {
          "output_type": "execute_result",
          "data": {
            "text/plain": [
              "Index(['App', 'Category', 'Rating', 'Reviews', 'Size', 'Installs', 'Type',\n",
              "       'Price', 'Content_Rating', 'Genres', 'Last_Updated', 'Current_Ver',\n",
              "       'Android_Ver'],\n",
              "      dtype='object')"
            ]
          },
          "metadata": {},
          "execution_count": 37
        }
      ]
    },
    {
      "cell_type": "markdown",
      "metadata": {
        "id": "Gs0KLsHlV0_K"
      },
      "source": [
        "**Findings**\n",
        "\n",
        "play_store dataframe has 10841 rows and 13 columns. The 13 columns are identified as below:\n",
        "\n",
        "\n",
        "1.   <b>App</b>- Name of the apps.\n",
        "2.   <b>Category</b>- Category under which the app falls.\n",
        "3.   <b>Rating</b>- Applications rating in playstore.\n",
        "4.   <b>Reviews</b>- Number of reviews given to apps.\n",
        "5.   <b>Size</b>- Size of the apps.\n",
        "6.   <b>Installs</b>- Number of installs of the apps.\n",
        "7.   <b>Type</b>- If the app is free or paid.\n",
        "8.   <b>Price</b>- Price of the apps.\n",
        "9.   <b>Content Rating</b>- Appropriate target audience of the apps.\n",
        "10.  <b>Genres</b>- Genres under which the app fall.\n",
        "11.  <b>Last updated</b>- Date when the app last updated.\n",
        "12.  <b>Current Ver</b>- Current version of the apps.\n",
        "13.  <b>Android Ver</b>- Minimum android version required for the apps to run.\n",
        "\n",
        "\n"
      ]
    },
    {
      "cell_type": "code",
      "metadata": {
        "colab": {
          "base_uri": "https://localhost:8080/",
          "height": 387
        },
        "id": "GZRHFRcZkGWd",
        "outputId": "1b3ef28d-8b75-4d2d-94bc-8587b6dc808f"
      },
      "source": [
        " df_apps.describe(include='all')"
      ],
      "execution_count": 38,
      "outputs": [
        {
          "output_type": "execute_result",
          "data": {
            "text/html": [
              "<div>\n",
              "<style scoped>\n",
              "    .dataframe tbody tr th:only-of-type {\n",
              "        vertical-align: middle;\n",
              "    }\n",
              "\n",
              "    .dataframe tbody tr th {\n",
              "        vertical-align: top;\n",
              "    }\n",
              "\n",
              "    .dataframe thead th {\n",
              "        text-align: right;\n",
              "    }\n",
              "</style>\n",
              "<table border=\"1\" class=\"dataframe\">\n",
              "  <thead>\n",
              "    <tr style=\"text-align: right;\">\n",
              "      <th></th>\n",
              "      <th>App</th>\n",
              "      <th>Category</th>\n",
              "      <th>Rating</th>\n",
              "      <th>Reviews</th>\n",
              "      <th>Size</th>\n",
              "      <th>Installs</th>\n",
              "      <th>Type</th>\n",
              "      <th>Price</th>\n",
              "      <th>Content_Rating</th>\n",
              "      <th>Genres</th>\n",
              "      <th>Last_Updated</th>\n",
              "      <th>Current_Ver</th>\n",
              "      <th>Android_Ver</th>\n",
              "    </tr>\n",
              "  </thead>\n",
              "  <tbody>\n",
              "    <tr>\n",
              "      <th>count</th>\n",
              "      <td>10841</td>\n",
              "      <td>10841</td>\n",
              "      <td>9367.000000</td>\n",
              "      <td>10841</td>\n",
              "      <td>10841</td>\n",
              "      <td>10841</td>\n",
              "      <td>10840</td>\n",
              "      <td>10841</td>\n",
              "      <td>10840</td>\n",
              "      <td>10841</td>\n",
              "      <td>10841</td>\n",
              "      <td>10833</td>\n",
              "      <td>10838</td>\n",
              "    </tr>\n",
              "    <tr>\n",
              "      <th>unique</th>\n",
              "      <td>9660</td>\n",
              "      <td>34</td>\n",
              "      <td>NaN</td>\n",
              "      <td>6002</td>\n",
              "      <td>462</td>\n",
              "      <td>22</td>\n",
              "      <td>3</td>\n",
              "      <td>93</td>\n",
              "      <td>6</td>\n",
              "      <td>120</td>\n",
              "      <td>1378</td>\n",
              "      <td>2832</td>\n",
              "      <td>33</td>\n",
              "    </tr>\n",
              "    <tr>\n",
              "      <th>top</th>\n",
              "      <td>ROBLOX</td>\n",
              "      <td>FAMILY</td>\n",
              "      <td>NaN</td>\n",
              "      <td>0</td>\n",
              "      <td>Varies with device</td>\n",
              "      <td>1,000,000+</td>\n",
              "      <td>Free</td>\n",
              "      <td>0</td>\n",
              "      <td>Everyone</td>\n",
              "      <td>Tools</td>\n",
              "      <td>August 3, 2018</td>\n",
              "      <td>Varies with device</td>\n",
              "      <td>4.1 and up</td>\n",
              "    </tr>\n",
              "    <tr>\n",
              "      <th>freq</th>\n",
              "      <td>9</td>\n",
              "      <td>1972</td>\n",
              "      <td>NaN</td>\n",
              "      <td>596</td>\n",
              "      <td>1695</td>\n",
              "      <td>1579</td>\n",
              "      <td>10039</td>\n",
              "      <td>10040</td>\n",
              "      <td>8714</td>\n",
              "      <td>842</td>\n",
              "      <td>326</td>\n",
              "      <td>1459</td>\n",
              "      <td>2451</td>\n",
              "    </tr>\n",
              "    <tr>\n",
              "      <th>mean</th>\n",
              "      <td>NaN</td>\n",
              "      <td>NaN</td>\n",
              "      <td>4.193338</td>\n",
              "      <td>NaN</td>\n",
              "      <td>NaN</td>\n",
              "      <td>NaN</td>\n",
              "      <td>NaN</td>\n",
              "      <td>NaN</td>\n",
              "      <td>NaN</td>\n",
              "      <td>NaN</td>\n",
              "      <td>NaN</td>\n",
              "      <td>NaN</td>\n",
              "      <td>NaN</td>\n",
              "    </tr>\n",
              "    <tr>\n",
              "      <th>std</th>\n",
              "      <td>NaN</td>\n",
              "      <td>NaN</td>\n",
              "      <td>0.537431</td>\n",
              "      <td>NaN</td>\n",
              "      <td>NaN</td>\n",
              "      <td>NaN</td>\n",
              "      <td>NaN</td>\n",
              "      <td>NaN</td>\n",
              "      <td>NaN</td>\n",
              "      <td>NaN</td>\n",
              "      <td>NaN</td>\n",
              "      <td>NaN</td>\n",
              "      <td>NaN</td>\n",
              "    </tr>\n",
              "    <tr>\n",
              "      <th>min</th>\n",
              "      <td>NaN</td>\n",
              "      <td>NaN</td>\n",
              "      <td>1.000000</td>\n",
              "      <td>NaN</td>\n",
              "      <td>NaN</td>\n",
              "      <td>NaN</td>\n",
              "      <td>NaN</td>\n",
              "      <td>NaN</td>\n",
              "      <td>NaN</td>\n",
              "      <td>NaN</td>\n",
              "      <td>NaN</td>\n",
              "      <td>NaN</td>\n",
              "      <td>NaN</td>\n",
              "    </tr>\n",
              "    <tr>\n",
              "      <th>25%</th>\n",
              "      <td>NaN</td>\n",
              "      <td>NaN</td>\n",
              "      <td>4.000000</td>\n",
              "      <td>NaN</td>\n",
              "      <td>NaN</td>\n",
              "      <td>NaN</td>\n",
              "      <td>NaN</td>\n",
              "      <td>NaN</td>\n",
              "      <td>NaN</td>\n",
              "      <td>NaN</td>\n",
              "      <td>NaN</td>\n",
              "      <td>NaN</td>\n",
              "      <td>NaN</td>\n",
              "    </tr>\n",
              "    <tr>\n",
              "      <th>50%</th>\n",
              "      <td>NaN</td>\n",
              "      <td>NaN</td>\n",
              "      <td>4.300000</td>\n",
              "      <td>NaN</td>\n",
              "      <td>NaN</td>\n",
              "      <td>NaN</td>\n",
              "      <td>NaN</td>\n",
              "      <td>NaN</td>\n",
              "      <td>NaN</td>\n",
              "      <td>NaN</td>\n",
              "      <td>NaN</td>\n",
              "      <td>NaN</td>\n",
              "      <td>NaN</td>\n",
              "    </tr>\n",
              "    <tr>\n",
              "      <th>75%</th>\n",
              "      <td>NaN</td>\n",
              "      <td>NaN</td>\n",
              "      <td>4.500000</td>\n",
              "      <td>NaN</td>\n",
              "      <td>NaN</td>\n",
              "      <td>NaN</td>\n",
              "      <td>NaN</td>\n",
              "      <td>NaN</td>\n",
              "      <td>NaN</td>\n",
              "      <td>NaN</td>\n",
              "      <td>NaN</td>\n",
              "      <td>NaN</td>\n",
              "      <td>NaN</td>\n",
              "    </tr>\n",
              "    <tr>\n",
              "      <th>max</th>\n",
              "      <td>NaN</td>\n",
              "      <td>NaN</td>\n",
              "      <td>19.000000</td>\n",
              "      <td>NaN</td>\n",
              "      <td>NaN</td>\n",
              "      <td>NaN</td>\n",
              "      <td>NaN</td>\n",
              "      <td>NaN</td>\n",
              "      <td>NaN</td>\n",
              "      <td>NaN</td>\n",
              "      <td>NaN</td>\n",
              "      <td>NaN</td>\n",
              "      <td>NaN</td>\n",
              "    </tr>\n",
              "  </tbody>\n",
              "</table>\n",
              "</div>"
            ],
            "text/plain": [
              "           App Category  ...         Current_Ver Android_Ver\n",
              "count    10841    10841  ...               10833       10838\n",
              "unique    9660       34  ...                2832          33\n",
              "top     ROBLOX   FAMILY  ...  Varies with device  4.1 and up\n",
              "freq         9     1972  ...                1459        2451\n",
              "mean       NaN      NaN  ...                 NaN         NaN\n",
              "std        NaN      NaN  ...                 NaN         NaN\n",
              "min        NaN      NaN  ...                 NaN         NaN\n",
              "25%        NaN      NaN  ...                 NaN         NaN\n",
              "50%        NaN      NaN  ...                 NaN         NaN\n",
              "75%        NaN      NaN  ...                 NaN         NaN\n",
              "max        NaN      NaN  ...                 NaN         NaN\n",
              "\n",
              "[11 rows x 13 columns]"
            ]
          },
          "metadata": {},
          "execution_count": 38
        }
      ]
    },
    {
      "cell_type": "code",
      "metadata": {
        "colab": {
          "base_uri": "https://localhost:8080/",
          "height": 448
        },
        "id": "YsbRMpaJWe7b",
        "outputId": "8332e8f9-b220-4476-db72-fab162df4b51"
      },
      "source": [
        "def PlaystoreInfo():\n",
        "  PSinfo_df = pd.DataFrame(index=df_apps.columns)\n",
        "  PSinfo_df['Datatypes'] =  df_apps.dtypes\n",
        "  PSinfo_df['Count of non-null values'] = df_apps.count()\n",
        "  PSinfo_df['NaN values'] = df_apps.isnull().sum()\n",
        "  PSinfo_df['% NaN Values'] = (PSinfo_df['NaN values']/len(df_apps)).round(4)*100 # or df_apps.isnull().mean()\n",
        "  PSinfo_df['Unique_count'] = df_apps.nunique()\n",
        "  return PSinfo_df\n",
        "PlaystoreInfo()"
      ],
      "execution_count": 39,
      "outputs": [
        {
          "output_type": "execute_result",
          "data": {
            "text/html": [
              "<div>\n",
              "<style scoped>\n",
              "    .dataframe tbody tr th:only-of-type {\n",
              "        vertical-align: middle;\n",
              "    }\n",
              "\n",
              "    .dataframe tbody tr th {\n",
              "        vertical-align: top;\n",
              "    }\n",
              "\n",
              "    .dataframe thead th {\n",
              "        text-align: right;\n",
              "    }\n",
              "</style>\n",
              "<table border=\"1\" class=\"dataframe\">\n",
              "  <thead>\n",
              "    <tr style=\"text-align: right;\">\n",
              "      <th></th>\n",
              "      <th>Datatypes</th>\n",
              "      <th>Count of non-null values</th>\n",
              "      <th>NaN values</th>\n",
              "      <th>% NaN Values</th>\n",
              "      <th>Unique_count</th>\n",
              "    </tr>\n",
              "  </thead>\n",
              "  <tbody>\n",
              "    <tr>\n",
              "      <th>App</th>\n",
              "      <td>object</td>\n",
              "      <td>10841</td>\n",
              "      <td>0</td>\n",
              "      <td>0.00</td>\n",
              "      <td>9660</td>\n",
              "    </tr>\n",
              "    <tr>\n",
              "      <th>Category</th>\n",
              "      <td>object</td>\n",
              "      <td>10841</td>\n",
              "      <td>0</td>\n",
              "      <td>0.00</td>\n",
              "      <td>34</td>\n",
              "    </tr>\n",
              "    <tr>\n",
              "      <th>Rating</th>\n",
              "      <td>float64</td>\n",
              "      <td>9367</td>\n",
              "      <td>1474</td>\n",
              "      <td>13.60</td>\n",
              "      <td>40</td>\n",
              "    </tr>\n",
              "    <tr>\n",
              "      <th>Reviews</th>\n",
              "      <td>object</td>\n",
              "      <td>10841</td>\n",
              "      <td>0</td>\n",
              "      <td>0.00</td>\n",
              "      <td>6002</td>\n",
              "    </tr>\n",
              "    <tr>\n",
              "      <th>Size</th>\n",
              "      <td>object</td>\n",
              "      <td>10841</td>\n",
              "      <td>0</td>\n",
              "      <td>0.00</td>\n",
              "      <td>462</td>\n",
              "    </tr>\n",
              "    <tr>\n",
              "      <th>Installs</th>\n",
              "      <td>object</td>\n",
              "      <td>10841</td>\n",
              "      <td>0</td>\n",
              "      <td>0.00</td>\n",
              "      <td>22</td>\n",
              "    </tr>\n",
              "    <tr>\n",
              "      <th>Type</th>\n",
              "      <td>object</td>\n",
              "      <td>10840</td>\n",
              "      <td>1</td>\n",
              "      <td>0.01</td>\n",
              "      <td>3</td>\n",
              "    </tr>\n",
              "    <tr>\n",
              "      <th>Price</th>\n",
              "      <td>object</td>\n",
              "      <td>10841</td>\n",
              "      <td>0</td>\n",
              "      <td>0.00</td>\n",
              "      <td>93</td>\n",
              "    </tr>\n",
              "    <tr>\n",
              "      <th>Content_Rating</th>\n",
              "      <td>object</td>\n",
              "      <td>10840</td>\n",
              "      <td>1</td>\n",
              "      <td>0.01</td>\n",
              "      <td>6</td>\n",
              "    </tr>\n",
              "    <tr>\n",
              "      <th>Genres</th>\n",
              "      <td>object</td>\n",
              "      <td>10841</td>\n",
              "      <td>0</td>\n",
              "      <td>0.00</td>\n",
              "      <td>120</td>\n",
              "    </tr>\n",
              "    <tr>\n",
              "      <th>Last_Updated</th>\n",
              "      <td>object</td>\n",
              "      <td>10841</td>\n",
              "      <td>0</td>\n",
              "      <td>0.00</td>\n",
              "      <td>1378</td>\n",
              "    </tr>\n",
              "    <tr>\n",
              "      <th>Current_Ver</th>\n",
              "      <td>object</td>\n",
              "      <td>10833</td>\n",
              "      <td>8</td>\n",
              "      <td>0.07</td>\n",
              "      <td>2832</td>\n",
              "    </tr>\n",
              "    <tr>\n",
              "      <th>Android_Ver</th>\n",
              "      <td>object</td>\n",
              "      <td>10838</td>\n",
              "      <td>3</td>\n",
              "      <td>0.03</td>\n",
              "      <td>33</td>\n",
              "    </tr>\n",
              "  </tbody>\n",
              "</table>\n",
              "</div>"
            ],
            "text/plain": [
              "               Datatypes  Count of non-null values  ...  % NaN Values  Unique_count\n",
              "App               object                     10841  ...          0.00          9660\n",
              "Category          object                     10841  ...          0.00            34\n",
              "Rating           float64                      9367  ...         13.60            40\n",
              "Reviews           object                     10841  ...          0.00          6002\n",
              "Size              object                     10841  ...          0.00           462\n",
              "Installs          object                     10841  ...          0.00            22\n",
              "Type              object                     10840  ...          0.01             3\n",
              "Price             object                     10841  ...          0.00            93\n",
              "Content_Rating    object                     10840  ...          0.01             6\n",
              "Genres            object                     10841  ...          0.00           120\n",
              "Last_Updated      object                     10841  ...          0.00          1378\n",
              "Current_Ver       object                     10833  ...          0.07          2832\n",
              "Android_Ver       object                     10838  ...          0.03            33\n",
              "\n",
              "[13 rows x 5 columns]"
            ]
          },
          "metadata": {},
          "execution_count": 39
        }
      ]
    },
    {
      "cell_type": "markdown",
      "metadata": {
        "id": "nA02jBCgaT6j"
      },
      "source": [
        "**Findings**\n",
        "\n",
        "* From the above, we understand that **except for Rating columns**, we are having a good dataset.\n",
        "\n",
        "* The number of null values are:\n",
        "  1. **Rating** has 1474 null values which contributes **13.60%** of the data.\n",
        "  2. **Type** has 1 null value which contributes **0.01%** of the data.\n",
        "  3. **Content_Rating** has 1 null value which contributes **0.01%** of the data.\n",
        "  4. **Current_Ver** has 8 null values which contributes **0.07%** of the data.\n",
        "  5. **Android_Ver** has 3 null values which contributes **0.03%** of the data.\n",
        "\n",
        "* We know that there is only **one feature with numeric type** i.e. Rating.\n",
        "* Unique counts of **Type** and **Content ratings** are very small i.e. **3** and **6** respectively\n",
        "\n"
      ]
    },
    {
      "cell_type": "code",
      "metadata": {
        "id": "_lEmQYMWeIKA"
      },
      "source": [
        ""
      ],
      "execution_count": 39,
      "outputs": []
    },
    {
      "cell_type": "markdown",
      "metadata": {
        "id": "bahGH5xAeS6j"
      },
      "source": [
        "# Lets Explore The User Review Dataset"
      ]
    },
    {
      "cell_type": "code",
      "metadata": {
        "colab": {
          "base_uri": "https://localhost:8080/",
          "height": 356
        },
        "id": "Uo3dDPB5eS6j",
        "outputId": "c4ca5076-dbb7-49f1-828a-be799bbb69f3"
      },
      "source": [
        "# print the 5 head and 5 row of Play Store dataframe\n",
        "\n",
        "concat_UserReview = pd.concat([df_reviews.head(5),df_reviews.tail(5)])\n",
        "concat_UserReview"
      ],
      "execution_count": 40,
      "outputs": [
        {
          "output_type": "execute_result",
          "data": {
            "text/html": [
              "<div>\n",
              "<style scoped>\n",
              "    .dataframe tbody tr th:only-of-type {\n",
              "        vertical-align: middle;\n",
              "    }\n",
              "\n",
              "    .dataframe tbody tr th {\n",
              "        vertical-align: top;\n",
              "    }\n",
              "\n",
              "    .dataframe thead th {\n",
              "        text-align: right;\n",
              "    }\n",
              "</style>\n",
              "<table border=\"1\" class=\"dataframe\">\n",
              "  <thead>\n",
              "    <tr style=\"text-align: right;\">\n",
              "      <th></th>\n",
              "      <th>App</th>\n",
              "      <th>Translated_Review</th>\n",
              "      <th>Sentiment</th>\n",
              "      <th>Sentiment_Polarity</th>\n",
              "      <th>Sentiment_Subjectivity</th>\n",
              "    </tr>\n",
              "  </thead>\n",
              "  <tbody>\n",
              "    <tr>\n",
              "      <th>0</th>\n",
              "      <td>10 Best Foods for You</td>\n",
              "      <td>I like eat delicious food. That's I'm cooking ...</td>\n",
              "      <td>Positive</td>\n",
              "      <td>1.00</td>\n",
              "      <td>0.533333</td>\n",
              "    </tr>\n",
              "    <tr>\n",
              "      <th>1</th>\n",
              "      <td>10 Best Foods for You</td>\n",
              "      <td>This help eating healthy exercise regular basis</td>\n",
              "      <td>Positive</td>\n",
              "      <td>0.25</td>\n",
              "      <td>0.288462</td>\n",
              "    </tr>\n",
              "    <tr>\n",
              "      <th>2</th>\n",
              "      <td>10 Best Foods for You</td>\n",
              "      <td>NaN</td>\n",
              "      <td>NaN</td>\n",
              "      <td>NaN</td>\n",
              "      <td>NaN</td>\n",
              "    </tr>\n",
              "    <tr>\n",
              "      <th>3</th>\n",
              "      <td>10 Best Foods for You</td>\n",
              "      <td>Works great especially going grocery store</td>\n",
              "      <td>Positive</td>\n",
              "      <td>0.40</td>\n",
              "      <td>0.875000</td>\n",
              "    </tr>\n",
              "    <tr>\n",
              "      <th>4</th>\n",
              "      <td>10 Best Foods for You</td>\n",
              "      <td>Best idea us</td>\n",
              "      <td>Positive</td>\n",
              "      <td>1.00</td>\n",
              "      <td>0.300000</td>\n",
              "    </tr>\n",
              "    <tr>\n",
              "      <th>64290</th>\n",
              "      <td>Houzz Interior Design Ideas</td>\n",
              "      <td>NaN</td>\n",
              "      <td>NaN</td>\n",
              "      <td>NaN</td>\n",
              "      <td>NaN</td>\n",
              "    </tr>\n",
              "    <tr>\n",
              "      <th>64291</th>\n",
              "      <td>Houzz Interior Design Ideas</td>\n",
              "      <td>NaN</td>\n",
              "      <td>NaN</td>\n",
              "      <td>NaN</td>\n",
              "      <td>NaN</td>\n",
              "    </tr>\n",
              "    <tr>\n",
              "      <th>64292</th>\n",
              "      <td>Houzz Interior Design Ideas</td>\n",
              "      <td>NaN</td>\n",
              "      <td>NaN</td>\n",
              "      <td>NaN</td>\n",
              "      <td>NaN</td>\n",
              "    </tr>\n",
              "    <tr>\n",
              "      <th>64293</th>\n",
              "      <td>Houzz Interior Design Ideas</td>\n",
              "      <td>NaN</td>\n",
              "      <td>NaN</td>\n",
              "      <td>NaN</td>\n",
              "      <td>NaN</td>\n",
              "    </tr>\n",
              "    <tr>\n",
              "      <th>64294</th>\n",
              "      <td>Houzz Interior Design Ideas</td>\n",
              "      <td>NaN</td>\n",
              "      <td>NaN</td>\n",
              "      <td>NaN</td>\n",
              "      <td>NaN</td>\n",
              "    </tr>\n",
              "  </tbody>\n",
              "</table>\n",
              "</div>"
            ],
            "text/plain": [
              "                               App  ... Sentiment_Subjectivity\n",
              "0            10 Best Foods for You  ...               0.533333\n",
              "1            10 Best Foods for You  ...               0.288462\n",
              "2            10 Best Foods for You  ...                    NaN\n",
              "3            10 Best Foods for You  ...               0.875000\n",
              "4            10 Best Foods for You  ...               0.300000\n",
              "64290  Houzz Interior Design Ideas  ...                    NaN\n",
              "64291  Houzz Interior Design Ideas  ...                    NaN\n",
              "64292  Houzz Interior Design Ideas  ...                    NaN\n",
              "64293  Houzz Interior Design Ideas  ...                    NaN\n",
              "64294  Houzz Interior Design Ideas  ...                    NaN\n",
              "\n",
              "[10 rows x 5 columns]"
            ]
          },
          "metadata": {},
          "execution_count": 40
        }
      ]
    },
    {
      "cell_type": "code",
      "metadata": {
        "colab": {
          "base_uri": "https://localhost:8080/"
        },
        "id": "VeD6j4n-eS6k",
        "outputId": "7f8b4976-2603-40fc-e1f1-c38794eb0605"
      },
      "source": [
        "# print rows and column of play store data\n",
        "\n",
        "print(f\"There are total {df_reviews.shape[0]} rows and {df_reviews.shape[1]} columns in playstore dataframe.\")"
      ],
      "execution_count": 41,
      "outputs": [
        {
          "output_type": "stream",
          "name": "stdout",
          "text": [
            "There are total 64295 rows and 5 columns in playstore dataframe.\n"
          ]
        }
      ]
    },
    {
      "cell_type": "code",
      "metadata": {
        "colab": {
          "base_uri": "https://localhost:8080/"
        },
        "id": "RTefO0BYeS6k",
        "outputId": "2d02b7e4-b9ba-49bb-9dba-e3f1c0231b9e"
      },
      "source": [
        "df_reviews.info()"
      ],
      "execution_count": 42,
      "outputs": [
        {
          "output_type": "stream",
          "name": "stdout",
          "text": [
            "<class 'pandas.core.frame.DataFrame'>\n",
            "RangeIndex: 64295 entries, 0 to 64294\n",
            "Data columns (total 5 columns):\n",
            " #   Column                  Non-Null Count  Dtype  \n",
            "---  ------                  --------------  -----  \n",
            " 0   App                     64295 non-null  object \n",
            " 1   Translated_Review       37427 non-null  object \n",
            " 2   Sentiment               37432 non-null  object \n",
            " 3   Sentiment_Polarity      37432 non-null  float64\n",
            " 4   Sentiment_Subjectivity  37432 non-null  float64\n",
            "dtypes: float64(2), object(3)\n",
            "memory usage: 2.5+ MB\n"
          ]
        }
      ]
    },
    {
      "cell_type": "code",
      "metadata": {
        "colab": {
          "base_uri": "https://localhost:8080/"
        },
        "id": "-fbBGHtceS6l",
        "outputId": "b241c046-722b-4d6c-adf1-a04d26d60ad0"
      },
      "source": [
        "df_reviews.columns"
      ],
      "execution_count": 43,
      "outputs": [
        {
          "output_type": "execute_result",
          "data": {
            "text/plain": [
              "Index(['App', 'Translated_Review', 'Sentiment', 'Sentiment_Polarity',\n",
              "       'Sentiment_Subjectivity'],\n",
              "      dtype='object')"
            ]
          },
          "metadata": {},
          "execution_count": 43
        }
      ]
    },
    {
      "cell_type": "markdown",
      "metadata": {
        "id": "KjeXPan_eS6l"
      },
      "source": [
        "**Findings**\n",
        "\n",
        "user_reviews dataframe has 64295 rows and 5 columns. The 5 columns are identified as follows:\n",
        "1. **App** - The name of the application.\n",
        "2. **Translated_Review** - what the users feedback is about the application.\n",
        "3. **Sentiment** - tells us about a view or opinion of the user w.r.t. the application.\n",
        "4. **Sentiment_Polarity** - Sentiment polarity for an element defines the orientation of the expressed sentiment, i.e., it determines if the text expresses the positive, negative or neutral sentiment of the user about the application.\n",
        "5. **Sentiment_Subjectivity** - It refers to the text that contains text which is usually expressed by a human having typical moods, emotions, and feelings. Mostly it is a public opinion and not a factual information. "
      ]
    },
    {
      "cell_type": "code",
      "metadata": {
        "colab": {
          "base_uri": "https://localhost:8080/",
          "height": 387
        },
        "id": "sL55rCODeS6m",
        "outputId": "bffe5def-bfbd-418f-b68e-200d3531778f"
      },
      "source": [
        " df_reviews.describe(include='all')"
      ],
      "execution_count": 44,
      "outputs": [
        {
          "output_type": "execute_result",
          "data": {
            "text/html": [
              "<div>\n",
              "<style scoped>\n",
              "    .dataframe tbody tr th:only-of-type {\n",
              "        vertical-align: middle;\n",
              "    }\n",
              "\n",
              "    .dataframe tbody tr th {\n",
              "        vertical-align: top;\n",
              "    }\n",
              "\n",
              "    .dataframe thead th {\n",
              "        text-align: right;\n",
              "    }\n",
              "</style>\n",
              "<table border=\"1\" class=\"dataframe\">\n",
              "  <thead>\n",
              "    <tr style=\"text-align: right;\">\n",
              "      <th></th>\n",
              "      <th>App</th>\n",
              "      <th>Translated_Review</th>\n",
              "      <th>Sentiment</th>\n",
              "      <th>Sentiment_Polarity</th>\n",
              "      <th>Sentiment_Subjectivity</th>\n",
              "    </tr>\n",
              "  </thead>\n",
              "  <tbody>\n",
              "    <tr>\n",
              "      <th>count</th>\n",
              "      <td>64295</td>\n",
              "      <td>37427</td>\n",
              "      <td>37432</td>\n",
              "      <td>37432.000000</td>\n",
              "      <td>37432.000000</td>\n",
              "    </tr>\n",
              "    <tr>\n",
              "      <th>unique</th>\n",
              "      <td>1074</td>\n",
              "      <td>27994</td>\n",
              "      <td>3</td>\n",
              "      <td>NaN</td>\n",
              "      <td>NaN</td>\n",
              "    </tr>\n",
              "    <tr>\n",
              "      <th>top</th>\n",
              "      <td>Angry Birds Classic</td>\n",
              "      <td>Good</td>\n",
              "      <td>Positive</td>\n",
              "      <td>NaN</td>\n",
              "      <td>NaN</td>\n",
              "    </tr>\n",
              "    <tr>\n",
              "      <th>freq</th>\n",
              "      <td>320</td>\n",
              "      <td>247</td>\n",
              "      <td>23998</td>\n",
              "      <td>NaN</td>\n",
              "      <td>NaN</td>\n",
              "    </tr>\n",
              "    <tr>\n",
              "      <th>mean</th>\n",
              "      <td>NaN</td>\n",
              "      <td>NaN</td>\n",
              "      <td>NaN</td>\n",
              "      <td>0.182146</td>\n",
              "      <td>0.492704</td>\n",
              "    </tr>\n",
              "    <tr>\n",
              "      <th>std</th>\n",
              "      <td>NaN</td>\n",
              "      <td>NaN</td>\n",
              "      <td>NaN</td>\n",
              "      <td>0.351301</td>\n",
              "      <td>0.259949</td>\n",
              "    </tr>\n",
              "    <tr>\n",
              "      <th>min</th>\n",
              "      <td>NaN</td>\n",
              "      <td>NaN</td>\n",
              "      <td>NaN</td>\n",
              "      <td>-1.000000</td>\n",
              "      <td>0.000000</td>\n",
              "    </tr>\n",
              "    <tr>\n",
              "      <th>25%</th>\n",
              "      <td>NaN</td>\n",
              "      <td>NaN</td>\n",
              "      <td>NaN</td>\n",
              "      <td>0.000000</td>\n",
              "      <td>0.357143</td>\n",
              "    </tr>\n",
              "    <tr>\n",
              "      <th>50%</th>\n",
              "      <td>NaN</td>\n",
              "      <td>NaN</td>\n",
              "      <td>NaN</td>\n",
              "      <td>0.150000</td>\n",
              "      <td>0.514286</td>\n",
              "    </tr>\n",
              "    <tr>\n",
              "      <th>75%</th>\n",
              "      <td>NaN</td>\n",
              "      <td>NaN</td>\n",
              "      <td>NaN</td>\n",
              "      <td>0.400000</td>\n",
              "      <td>0.650000</td>\n",
              "    </tr>\n",
              "    <tr>\n",
              "      <th>max</th>\n",
              "      <td>NaN</td>\n",
              "      <td>NaN</td>\n",
              "      <td>NaN</td>\n",
              "      <td>1.000000</td>\n",
              "      <td>1.000000</td>\n",
              "    </tr>\n",
              "  </tbody>\n",
              "</table>\n",
              "</div>"
            ],
            "text/plain": [
              "                        App  ... Sentiment_Subjectivity\n",
              "count                 64295  ...           37432.000000\n",
              "unique                 1074  ...                    NaN\n",
              "top     Angry Birds Classic  ...                    NaN\n",
              "freq                    320  ...                    NaN\n",
              "mean                    NaN  ...               0.492704\n",
              "std                     NaN  ...               0.259949\n",
              "min                     NaN  ...               0.000000\n",
              "25%                     NaN  ...               0.357143\n",
              "50%                     NaN  ...               0.514286\n",
              "75%                     NaN  ...               0.650000\n",
              "max                     NaN  ...               1.000000\n",
              "\n",
              "[11 rows x 5 columns]"
            ]
          },
          "metadata": {},
          "execution_count": 44
        }
      ]
    },
    {
      "cell_type": "code",
      "metadata": {
        "colab": {
          "base_uri": "https://localhost:8080/",
          "height": 202
        },
        "id": "LZxSr8C0eS6m",
        "outputId": "6d014894-fae6-4259-898f-8b6c525438c9"
      },
      "source": [
        "def UserReviewInfo():\n",
        "  URinfo_df = pd.DataFrame(index=df_reviews.columns)\n",
        "  URinfo_df['Datatypes'] =  df_reviews.dtypes\n",
        "  URinfo_df['Count of non-null values'] = df_reviews.count()\n",
        "  URinfo_df['NaN values'] = df_reviews.isnull().sum()\n",
        "  URinfo_df['% NaN Values'] = (URinfo_df['NaN values']/len(df_reviews)).round(4)*100 # or df_REVIEWS.isnull().mean()\n",
        "  URinfo_df['Unique_count'] = df_reviews.nunique()\n",
        "  return URinfo_df\n",
        "UserReviewInfo()"
      ],
      "execution_count": 45,
      "outputs": [
        {
          "output_type": "execute_result",
          "data": {
            "text/html": [
              "<div>\n",
              "<style scoped>\n",
              "    .dataframe tbody tr th:only-of-type {\n",
              "        vertical-align: middle;\n",
              "    }\n",
              "\n",
              "    .dataframe tbody tr th {\n",
              "        vertical-align: top;\n",
              "    }\n",
              "\n",
              "    .dataframe thead th {\n",
              "        text-align: right;\n",
              "    }\n",
              "</style>\n",
              "<table border=\"1\" class=\"dataframe\">\n",
              "  <thead>\n",
              "    <tr style=\"text-align: right;\">\n",
              "      <th></th>\n",
              "      <th>Datatypes</th>\n",
              "      <th>Count of non-null values</th>\n",
              "      <th>NaN values</th>\n",
              "      <th>% NaN Values</th>\n",
              "      <th>Unique_count</th>\n",
              "    </tr>\n",
              "  </thead>\n",
              "  <tbody>\n",
              "    <tr>\n",
              "      <th>App</th>\n",
              "      <td>object</td>\n",
              "      <td>64295</td>\n",
              "      <td>0</td>\n",
              "      <td>0.00</td>\n",
              "      <td>1074</td>\n",
              "    </tr>\n",
              "    <tr>\n",
              "      <th>Translated_Review</th>\n",
              "      <td>object</td>\n",
              "      <td>37427</td>\n",
              "      <td>26868</td>\n",
              "      <td>41.79</td>\n",
              "      <td>27994</td>\n",
              "    </tr>\n",
              "    <tr>\n",
              "      <th>Sentiment</th>\n",
              "      <td>object</td>\n",
              "      <td>37432</td>\n",
              "      <td>26863</td>\n",
              "      <td>41.78</td>\n",
              "      <td>3</td>\n",
              "    </tr>\n",
              "    <tr>\n",
              "      <th>Sentiment_Polarity</th>\n",
              "      <td>float64</td>\n",
              "      <td>37432</td>\n",
              "      <td>26863</td>\n",
              "      <td>41.78</td>\n",
              "      <td>6195</td>\n",
              "    </tr>\n",
              "    <tr>\n",
              "      <th>Sentiment_Subjectivity</th>\n",
              "      <td>float64</td>\n",
              "      <td>37432</td>\n",
              "      <td>26863</td>\n",
              "      <td>41.78</td>\n",
              "      <td>4530</td>\n",
              "    </tr>\n",
              "  </tbody>\n",
              "</table>\n",
              "</div>"
            ],
            "text/plain": [
              "                       Datatypes  ...  Unique_count\n",
              "App                       object  ...          1074\n",
              "Translated_Review         object  ...         27994\n",
              "Sentiment                 object  ...             3\n",
              "Sentiment_Polarity       float64  ...          6195\n",
              "Sentiment_Subjectivity   float64  ...          4530\n",
              "\n",
              "[5 rows x 5 columns]"
            ]
          },
          "metadata": {},
          "execution_count": 45
        }
      ]
    },
    {
      "cell_type": "markdown",
      "metadata": {
        "id": "6zWmxTfYeS6m"
      },
      "source": [
        "**Findings**\n",
        "\n",
        "* From the above, we understand that **only for App column**, we are having a good dataset.\n",
        "* There so many of null values in dataset, we need to take care of that part.\n",
        "\n",
        "* The number of null values are:\n",
        "  1. **Translated_Review** has 26868 null values which contributes **41.79%** of the data.\n",
        "  2. **Sentiment** has 26863 null values which contributes **41.78%** of the data.\n",
        "  3. **Sentiment_Polarity** has 26863 null values which contributes **41.78%** of the data.\n",
        "  4. **Sentiment_Subjectivity** has 26863 null values which contributes **41.78%** of the data.\n",
        "\n",
        "* We know that there is **two feature with numeric type** i.e. **Sentiment_Polarity** and **Sentiment_Subjectivity**.\n",
        "* Unique count of **Sentiment**  are very small i.e. **3** .\n",
        "* Most of the **Translated_review** and **Sentiment** are **Good** and **Positive**.\n",
        "\n"
      ]
    },
    {
      "cell_type": "markdown",
      "metadata": {
        "id": "E1t_5UFlg24s"
      },
      "source": [
        "# **Data Cleaning - Univariate & Bivariate Analysis**"
      ]
    },
    {
      "cell_type": "markdown",
      "metadata": {
        "id": "C38cxZ-ik9gI"
      },
      "source": [
        "## Handling Missing Values"
      ]
    },
    {
      "cell_type": "markdown",
      "metadata": {
        "id": "zpWst8sglAjh"
      },
      "source": [
        "### Missing Values in user_review DF"
      ]
    },
    {
      "cell_type": "code",
      "metadata": {
        "colab": {
          "base_uri": "https://localhost:8080/",
          "height": 202
        },
        "id": "QzYPXQ3rhizZ",
        "outputId": "350ffc4f-c2de-43b2-e113-7a732b01f5f0"
      },
      "source": [
        "UserReviewInfo()"
      ],
      "execution_count": 46,
      "outputs": [
        {
          "output_type": "execute_result",
          "data": {
            "text/html": [
              "<div>\n",
              "<style scoped>\n",
              "    .dataframe tbody tr th:only-of-type {\n",
              "        vertical-align: middle;\n",
              "    }\n",
              "\n",
              "    .dataframe tbody tr th {\n",
              "        vertical-align: top;\n",
              "    }\n",
              "\n",
              "    .dataframe thead th {\n",
              "        text-align: right;\n",
              "    }\n",
              "</style>\n",
              "<table border=\"1\" class=\"dataframe\">\n",
              "  <thead>\n",
              "    <tr style=\"text-align: right;\">\n",
              "      <th></th>\n",
              "      <th>Datatypes</th>\n",
              "      <th>Count of non-null values</th>\n",
              "      <th>NaN values</th>\n",
              "      <th>% NaN Values</th>\n",
              "      <th>Unique_count</th>\n",
              "    </tr>\n",
              "  </thead>\n",
              "  <tbody>\n",
              "    <tr>\n",
              "      <th>App</th>\n",
              "      <td>object</td>\n",
              "      <td>64295</td>\n",
              "      <td>0</td>\n",
              "      <td>0.00</td>\n",
              "      <td>1074</td>\n",
              "    </tr>\n",
              "    <tr>\n",
              "      <th>Translated_Review</th>\n",
              "      <td>object</td>\n",
              "      <td>37427</td>\n",
              "      <td>26868</td>\n",
              "      <td>41.79</td>\n",
              "      <td>27994</td>\n",
              "    </tr>\n",
              "    <tr>\n",
              "      <th>Sentiment</th>\n",
              "      <td>object</td>\n",
              "      <td>37432</td>\n",
              "      <td>26863</td>\n",
              "      <td>41.78</td>\n",
              "      <td>3</td>\n",
              "    </tr>\n",
              "    <tr>\n",
              "      <th>Sentiment_Polarity</th>\n",
              "      <td>float64</td>\n",
              "      <td>37432</td>\n",
              "      <td>26863</td>\n",
              "      <td>41.78</td>\n",
              "      <td>6195</td>\n",
              "    </tr>\n",
              "    <tr>\n",
              "      <th>Sentiment_Subjectivity</th>\n",
              "      <td>float64</td>\n",
              "      <td>37432</td>\n",
              "      <td>26863</td>\n",
              "      <td>41.78</td>\n",
              "      <td>4530</td>\n",
              "    </tr>\n",
              "  </tbody>\n",
              "</table>\n",
              "</div>"
            ],
            "text/plain": [
              "                       Datatypes  ...  Unique_count\n",
              "App                       object  ...          1074\n",
              "Translated_Review         object  ...         27994\n",
              "Sentiment                 object  ...             3\n",
              "Sentiment_Polarity       float64  ...          6195\n",
              "Sentiment_Subjectivity   float64  ...          4530\n",
              "\n",
              "[5 rows x 5 columns]"
            ]
          },
          "metadata": {},
          "execution_count": 46
        }
      ]
    },
    {
      "cell_type": "code",
      "metadata": {
        "id": "BVr8fziplxIF"
      },
      "source": [
        "# lets create new user review df, as we going to drop all null values\n",
        "# We have dropped the rows having all null values as it makes no sense in keeping them\n",
        "new_df_reviews = df_reviews.dropna(subset=[\"Translated_Review\",\"Sentiment\",\"Sentiment_Polarity\",\"Sentiment_Subjectivity\"],how=\"all\")"
      ],
      "execution_count": 47,
      "outputs": []
    },
    {
      "cell_type": "code",
      "metadata": {
        "colab": {
          "base_uri": "https://localhost:8080/"
        },
        "id": "cQ5PV4X2nQmZ",
        "outputId": "3ba2d896-89d5-408a-f16c-3b62337fa951"
      },
      "source": [
        "new_df_reviews.shape"
      ],
      "execution_count": 48,
      "outputs": [
        {
          "output_type": "execute_result",
          "data": {
            "text/plain": [
              "(37432, 5)"
            ]
          },
          "metadata": {},
          "execution_count": 48
        }
      ]
    },
    {
      "cell_type": "code",
      "metadata": {
        "colab": {
          "base_uri": "https://localhost:8080/"
        },
        "id": "6OSmbFMxnXoP",
        "outputId": "14a40813-12bd-4352-c5f7-da823a146c61"
      },
      "source": [
        "new_df_reviews.isnull().sum()"
      ],
      "execution_count": 49,
      "outputs": [
        {
          "output_type": "execute_result",
          "data": {
            "text/plain": [
              "App                       0\n",
              "Translated_Review         5\n",
              "Sentiment                 0\n",
              "Sentiment_Polarity        0\n",
              "Sentiment_Subjectivity    0\n",
              "dtype: int64"
            ]
          },
          "metadata": {},
          "execution_count": 49
        }
      ]
    },
    {
      "cell_type": "code",
      "metadata": {
        "colab": {
          "base_uri": "https://localhost:8080/",
          "height": 202
        },
        "id": "IdO_l13RnXl_",
        "outputId": "44c93526-9b95-4fe9-9557-9efd2cc8bfd9"
      },
      "source": [
        "new_df_reviews[new_df_reviews.Translated_Review.isnull()]"
      ],
      "execution_count": 51,
      "outputs": [
        {
          "output_type": "execute_result",
          "data": {
            "text/html": [
              "<div>\n",
              "<style scoped>\n",
              "    .dataframe tbody tr th:only-of-type {\n",
              "        vertical-align: middle;\n",
              "    }\n",
              "\n",
              "    .dataframe tbody tr th {\n",
              "        vertical-align: top;\n",
              "    }\n",
              "\n",
              "    .dataframe thead th {\n",
              "        text-align: right;\n",
              "    }\n",
              "</style>\n",
              "<table border=\"1\" class=\"dataframe\">\n",
              "  <thead>\n",
              "    <tr style=\"text-align: right;\">\n",
              "      <th></th>\n",
              "      <th>App</th>\n",
              "      <th>Translated_Review</th>\n",
              "      <th>Sentiment</th>\n",
              "      <th>Sentiment_Polarity</th>\n",
              "      <th>Sentiment_Subjectivity</th>\n",
              "    </tr>\n",
              "  </thead>\n",
              "  <tbody>\n",
              "    <tr>\n",
              "      <th>268</th>\n",
              "      <td>11st</td>\n",
              "      <td>NaN</td>\n",
              "      <td>Neutral</td>\n",
              "      <td>0.0</td>\n",
              "      <td>0.0</td>\n",
              "    </tr>\n",
              "    <tr>\n",
              "      <th>15048</th>\n",
              "      <td>Birds Sounds Ringtones &amp; Wallpapers</td>\n",
              "      <td>NaN</td>\n",
              "      <td>Neutral</td>\n",
              "      <td>0.0</td>\n",
              "      <td>0.0</td>\n",
              "    </tr>\n",
              "    <tr>\n",
              "      <th>22092</th>\n",
              "      <td>Calorie Counter - MyFitnessPal</td>\n",
              "      <td>NaN</td>\n",
              "      <td>Neutral</td>\n",
              "      <td>0.0</td>\n",
              "      <td>0.0</td>\n",
              "    </tr>\n",
              "    <tr>\n",
              "      <th>31623</th>\n",
              "      <td>DC Comics</td>\n",
              "      <td>NaN</td>\n",
              "      <td>Neutral</td>\n",
              "      <td>0.0</td>\n",
              "      <td>0.0</td>\n",
              "    </tr>\n",
              "    <tr>\n",
              "      <th>52500</th>\n",
              "      <td>Garden Photo Frames - Garden Photo Editor</td>\n",
              "      <td>NaN</td>\n",
              "      <td>Neutral</td>\n",
              "      <td>0.0</td>\n",
              "      <td>0.0</td>\n",
              "    </tr>\n",
              "  </tbody>\n",
              "</table>\n",
              "</div>"
            ],
            "text/plain": [
              "                                             App  ... Sentiment_Subjectivity\n",
              "268                                         11st  ...                    0.0\n",
              "15048        Birds Sounds Ringtones & Wallpapers  ...                    0.0\n",
              "22092             Calorie Counter - MyFitnessPal  ...                    0.0\n",
              "31623                                  DC Comics  ...                    0.0\n",
              "52500  Garden Photo Frames - Garden Photo Editor  ...                    0.0\n",
              "\n",
              "[5 rows x 5 columns]"
            ]
          },
          "metadata": {},
          "execution_count": 51
        }
      ]
    },
    {
      "cell_type": "code",
      "metadata": {
        "colab": {
          "base_uri": "https://localhost:8080/"
        },
        "id": "wcQEOi2Tn79U",
        "outputId": "107dbf5f-8c44-4492-cae1-67832e7721b0"
      },
      "source": [
        "new_df_reviews = new_df_reviews.dropna(subset= [\"Translated_Review\"],how = \"all\")\n",
        "new_df_reviews.shape"
      ],
      "execution_count": 52,
      "outputs": [
        {
          "output_type": "execute_result",
          "data": {
            "text/plain": [
              "(37427, 5)"
            ]
          },
          "metadata": {},
          "execution_count": 52
        }
      ]
    },
    {
      "cell_type": "code",
      "metadata": {
        "colab": {
          "base_uri": "https://localhost:8080/",
          "height": 202
        },
        "id": "uaLEHOiToJGu",
        "outputId": "e89b8415-ee0f-4881-b76a-11fa8d6dc58b"
      },
      "source": [
        "def New_UserReviewInfo():\n",
        "  URinfo_df = pd.DataFrame(index=new_df_reviews.columns)\n",
        "  URinfo_df['Datatypes'] =  new_df_reviews.dtypes\n",
        "  URinfo_df['Count of non-null values'] = new_df_reviews.count()\n",
        "  URinfo_df['NaN values'] = new_df_reviews.isnull().sum()\n",
        "  URinfo_df['% NaN Values'] = (URinfo_df['NaN values']/len(new_df_reviews)).round(4)*100 # or df_REVIEWS.isnull().mean()\n",
        "  URinfo_df['Unique_count'] = new_df_reviews.nunique()\n",
        "  return URinfo_df\n",
        "New_UserReviewInfo()"
      ],
      "execution_count": 54,
      "outputs": [
        {
          "output_type": "execute_result",
          "data": {
            "text/html": [
              "<div>\n",
              "<style scoped>\n",
              "    .dataframe tbody tr th:only-of-type {\n",
              "        vertical-align: middle;\n",
              "    }\n",
              "\n",
              "    .dataframe tbody tr th {\n",
              "        vertical-align: top;\n",
              "    }\n",
              "\n",
              "    .dataframe thead th {\n",
              "        text-align: right;\n",
              "    }\n",
              "</style>\n",
              "<table border=\"1\" class=\"dataframe\">\n",
              "  <thead>\n",
              "    <tr style=\"text-align: right;\">\n",
              "      <th></th>\n",
              "      <th>Datatypes</th>\n",
              "      <th>Count of non-null values</th>\n",
              "      <th>NaN values</th>\n",
              "      <th>% NaN Values</th>\n",
              "      <th>Unique_count</th>\n",
              "    </tr>\n",
              "  </thead>\n",
              "  <tbody>\n",
              "    <tr>\n",
              "      <th>App</th>\n",
              "      <td>object</td>\n",
              "      <td>37427</td>\n",
              "      <td>0</td>\n",
              "      <td>0.0</td>\n",
              "      <td>865</td>\n",
              "    </tr>\n",
              "    <tr>\n",
              "      <th>Translated_Review</th>\n",
              "      <td>object</td>\n",
              "      <td>37427</td>\n",
              "      <td>0</td>\n",
              "      <td>0.0</td>\n",
              "      <td>27994</td>\n",
              "    </tr>\n",
              "    <tr>\n",
              "      <th>Sentiment</th>\n",
              "      <td>object</td>\n",
              "      <td>37427</td>\n",
              "      <td>0</td>\n",
              "      <td>0.0</td>\n",
              "      <td>3</td>\n",
              "    </tr>\n",
              "    <tr>\n",
              "      <th>Sentiment_Polarity</th>\n",
              "      <td>float64</td>\n",
              "      <td>37427</td>\n",
              "      <td>0</td>\n",
              "      <td>0.0</td>\n",
              "      <td>6195</td>\n",
              "    </tr>\n",
              "    <tr>\n",
              "      <th>Sentiment_Subjectivity</th>\n",
              "      <td>float64</td>\n",
              "      <td>37427</td>\n",
              "      <td>0</td>\n",
              "      <td>0.0</td>\n",
              "      <td>4530</td>\n",
              "    </tr>\n",
              "  </tbody>\n",
              "</table>\n",
              "</div>"
            ],
            "text/plain": [
              "                       Datatypes  ...  Unique_count\n",
              "App                       object  ...           865\n",
              "Translated_Review         object  ...         27994\n",
              "Sentiment                 object  ...             3\n",
              "Sentiment_Polarity       float64  ...          6195\n",
              "Sentiment_Subjectivity   float64  ...          4530\n",
              "\n",
              "[5 rows x 5 columns]"
            ]
          },
          "metadata": {},
          "execution_count": 54
        }
      ]
    },
    {
      "cell_type": "markdown",
      "metadata": {
        "id": "GPTseXU_o9Sz"
      },
      "source": [
        "**CONCLUSION:** From the above output we can infer that we have removed all the NaN values from the user_review data frame."
      ]
    },
    {
      "cell_type": "markdown",
      "metadata": {
        "id": "merT4ybOpUOx"
      },
      "source": [
        "### Missing Values in play_store DF"
      ]
    }
  ]
}