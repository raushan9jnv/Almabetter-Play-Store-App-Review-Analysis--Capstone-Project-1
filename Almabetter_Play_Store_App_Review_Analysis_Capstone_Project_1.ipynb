{
  "nbformat": 4,
  "nbformat_minor": 0,
  "metadata": {
    "colab": {
      "name": "Almabetter Play Store App Review Analysis- Capstone Project-1",
      "provenance": [],
      "collapsed_sections": [],
      "authorship_tag": "ABX9TyNkYDcc17G880enpHML9+pT",
      "include_colab_link": true
    },
    "kernelspec": {
      "name": "python3",
      "display_name": "Python 3"
    },
    "language_info": {
      "name": "python"
    }
  },
  "cells": [
    {
      "cell_type": "markdown",
      "metadata": {
        "id": "view-in-github",
        "colab_type": "text"
      },
      "source": [
        "<a href=\"https://colab.research.google.com/github/raushan9jnv/Almabetter-Play-Store-App-Review-Analysis--Capstone-Project-1/blob/main/Almabetter_Play_Store_App_Review_Analysis_Capstone_Project_1.ipynb\" target=\"_parent\"><img src=\"https://colab.research.google.com/assets/colab-badge.svg\" alt=\"Open In Colab\"/></a>"
      ]
    },
    {
      "cell_type": "markdown",
      "metadata": {
        "id": "9mH-hQomHxee"
      },
      "source": [
        ""
      ]
    },
    {
      "cell_type": "markdown",
      "metadata": {
        "id": "0JaTGOWcyDLv"
      },
      "source": [
        "## <b> The Play Store apps data has enormous potential to drive app-making businesses to success. Actionable insights can be drawn for developers to work on and capture the Android market. </b>\n",
        "\n",
        "## <b> Each app (row) has values for catergory, rating, size, and more. Another dataset contains customer reviews of the android apps.</b>\n",
        "\n",
        "## <b> Explore and analyze the data to discover key factors responsible for app engagement and success. </b>"
      ]
    },
    {
      "cell_type": "markdown",
      "metadata": {
        "id": "1fKXXj1zzjy8"
      },
      "source": [
        "Play Store is a Application distribution platform and pre-installed on smartphones that ship with Google Mobile Services and it's free to use. It provides access to content on the Google Play Store, including apps, books, magazines, music, movies, and television programs.Their lots of designers and developers work on it to make play store services outstanding than other stores present in the market."
      ]
    },
    {
      "cell_type": "markdown",
      "metadata": {
        "id": "WZz9EN7-4EGq"
      },
      "source": [
        "To take play store services in outstanding state, it would be great for developers and designer to analyze each and every aspect of current market like what people looking for, trend of a particular service, which type of desgin(UI) mostly liked by user and many more aspect. while considering these factors and work on it will affect the productivity of services. "
      ]
    },
    {
      "cell_type": "markdown",
      "metadata": {
        "id": "O8gPtuNq8Gpv"
      },
      "source": [
        "The objective of our exploratory data analysis project is to understand customer demands better and thus help developers and designers to improve their product engagement on the play store and make great impact on user."
      ]
    },
    {
      "cell_type": "markdown",
      "metadata": {
        "id": "0kdoCLdL-WV-"
      },
      "source": [
        "# **OBJECTIVE**"
      ]
    },
    {
      "cell_type": "markdown",
      "metadata": {
        "id": "WC5LZ1pW-cIV"
      },
      "source": [
        "In this data analysis project we have asked to analyze techanical aspect how about building a good android application and discover key factors responsible for app engagement and success. We also see trend and insights of play store."
      ]
    },
    {
      "cell_type": "markdown",
      "metadata": {
        "id": "vJPNLmp5FNWb"
      },
      "source": [
        "We were given two datasets one is <b>Play Store Data</b> and other is <b>User Review</b>. before watching over data provided, let's first see what actually is Exploratory Data Analysis (EDA)."
      ]
    },
    {
      "cell_type": "markdown",
      "metadata": {
        "id": "XPxAvB5BE3bk"
      },
      "source": [
        "# **What is Exploratory Data Analysis?**"
      ]
    },
    {
      "cell_type": "markdown",
      "metadata": {
        "id": "vaJIpbioG24w"
      },
      "source": [
        "Exploratory Data Analysis (EDA) is an approach to analyzing datasets to summarize their main characteristics, often with visual methods. EDA is used for seeing what the data can tell us before the modeling task. It is not easy to look at a column of numbers or a whole spreadsheet and determine important characteristics of the data. It may be tedious, boring, and/or overwhelming to derive insights by looking at plain numbers. Exploratory data analysis techniques have been devised as an aid in this situation."
      ]
    },
    {
      "cell_type": "markdown",
      "metadata": {
        "id": "pwe9guydWrnt"
      },
      "source": [
        "Exploratory data analysis is generally cross-classified in two ways. First, each method is either non-graphical or graphical. And second, each method is either univariate or multivariate (usually just bivariate)"
      ]
    },
    {
      "cell_type": "markdown",
      "metadata": {
        "id": "uIY0E2a-Wsi1"
      },
      "source": [
        "The following steps involved in thev EDA process:\n",
        "1. Identification of variables and data types\n",
        "2. Analyzing the basic metrics\n",
        "3. Non-Graphical Univariate Analysis\n",
        "4. Graphical Univariate Analysis\n",
        "5. Bivariate Analysis\n",
        "6. Variable transformations\n",
        "7. Missing value treatment\n",
        "8. Outlier treatment\n",
        "9. Correlation Analysis\n",
        "10. Dimensionality Reduction"
      ]
    },
    {
      "cell_type": "markdown",
      "metadata": {
        "id": "YrVwe1zsYb6F"
      },
      "source": [
        "# **Problem Statements**"
      ]
    },
    {
      "cell_type": "markdown",
      "metadata": {
        "id": "v7xAgQEXYc1E"
      },
      "source": [
        ""
      ]
    }
  ]
}